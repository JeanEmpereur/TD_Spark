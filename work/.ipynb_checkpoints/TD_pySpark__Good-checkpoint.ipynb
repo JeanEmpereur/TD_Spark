{
 "cells": [
  {
   "cell_type": "markdown",
   "metadata": {},
   "source": [
    "# Etude de cas : analyse des fichiers de logs des cyclistes\n",
    "\n",
    "Objectif: A partir des fichiers contenu dans le dossier ./data/Cyclistes, calculer la durée de chacun des trajets effectués par chaque cycliste."
   ]
  },
  {
   "cell_type": "code",
   "execution_count": 1,
   "metadata": {},
   "outputs": [],
   "source": [
    "from pyspark.sql import SparkSession\n",
    "from pyspark.sql.types import *\n",
    "from pyspark.sql import functions as F\n",
    "from pyspark.sql.types import *\n",
    "from pyspark.sql.functions import udf\n",
    "from pyspark.sql.window import Window"
   ]
  },
  {
   "cell_type": "markdown",
   "metadata": {},
   "source": [
    "## 1)  Charger la donnée\n",
    "Créez une seesion Spark et chargez les données Cyclistes."
   ]
  },
  {
   "cell_type": "code",
   "execution_count": 2,
   "metadata": {},
   "outputs": [],
   "source": [
    "from pyspark.sql import SparkSession\n",
    "spark = SparkSession.builder.getOrCreate()"
   ]
  },
  {
   "cell_type": "code",
   "execution_count": 3,
   "metadata": {},
   "outputs": [
    {
     "name": "stdout",
     "output_type": "stream",
     "text": [
      "+---+-------------------+--------+-----+--------------------+-------------------+------------------+\n",
      "| id|          timestamp|sur_velo| velo|             vitesse|           position|destination_finale|\n",
      "+---+-------------------+--------+-----+--------------------+-------------------+------------------+\n",
      "| 12|2018-01-01 00:01:00|   false|False|0.030000000000000006|(lon:2.07 lat:1.24)|             False|\n",
      "| 12|2018-01-01 00:02:00|   false|False|0.030000000000000006|(lon:2.07 lat:1.24)|             False|\n",
      "| 12|2018-01-01 00:03:00|   false|False|0.030000000000000006|(lon:2.07 lat:1.24)|             False|\n",
      "| 12|2018-01-01 00:04:00|   false|False|0.030000000000000006|(lon:2.07 lat:1.24)|             False|\n",
      "| 12|2018-01-01 00:05:00|   false|False|0.030000000000000006|(lon:2.07 lat:1.24)|             False|\n",
      "| 12|2018-01-01 00:06:00|   false|False|0.030000000000000006|(lon:2.07 lat:1.24)|             False|\n",
      "| 12|2018-01-01 00:07:00|   false|False|0.030000000000000006|(lon:2.07 lat:1.24)|             False|\n",
      "| 12|2018-01-01 00:08:00|   false|False|0.030000000000000006|(lon:2.07 lat:1.24)|             False|\n",
      "| 12|2018-01-01 00:09:00|   false|False|0.030000000000000006|(lon:2.07 lat:1.24)|             False|\n",
      "| 12|2018-01-01 00:10:00|   false|False|0.030000000000000006|(lon:2.07 lat:1.24)|             False|\n",
      "| 12|2018-01-01 00:11:00|   false|False|0.030000000000000006|(lon:2.07 lat:1.24)|             False|\n",
      "| 12|2018-01-01 00:12:00|   false|False|0.030000000000000006|(lon:2.07 lat:1.24)|             False|\n",
      "| 12|2018-01-01 00:13:00|   false|False|0.030000000000000006|(lon:2.07 lat:1.24)|             False|\n",
      "| 12|2018-01-01 00:14:00|   false|False|0.030000000000000006|(lon:2.07 lat:1.24)|             False|\n",
      "| 12|2018-01-01 00:15:00|   false|False|0.030000000000000006|(lon:2.07 lat:1.24)|             False|\n",
      "| 12|2018-01-01 00:16:00|   false|False|0.030000000000000006|(lon:2.07 lat:1.24)|             False|\n",
      "| 12|2018-01-01 00:17:00|   false|False|0.030000000000000006|(lon:2.07 lat:1.24)|             False|\n",
      "| 12|2018-01-01 00:18:00|   false|False|0.030000000000000006|(lon:2.07 lat:1.24)|             False|\n",
      "| 12|2018-01-01 00:19:00|   false|False|0.030000000000000006|(lon:2.07 lat:1.24)|             False|\n",
      "| 12|2018-01-01 00:20:00|   false|False|0.030000000000000006|(lon:2.07 lat:1.24)|             False|\n",
      "+---+-------------------+--------+-----+--------------------+-------------------+------------------+\n",
      "only showing top 20 rows\n",
      "\n"
     ]
    }
   ],
   "source": [
    "path = \"./data/Cyclistes/\"\n",
    "df = spark.read.format('csv').options(header=True, inferSchema=True).load(path)\n",
    "df.show()"
   ]
  },
  {
   "cell_type": "markdown",
   "metadata": {},
   "source": [
    "## 2) Vérifier le nombre de cyclistes\n",
    "\n",
    "Comptez le nombre d'id uniques."
   ]
  },
  {
   "cell_type": "code",
   "execution_count": 4,
   "metadata": {},
   "outputs": [
    {
     "data": {
      "text/plain": [
       "50"
      ]
     },
     "execution_count": 4,
     "metadata": {},
     "output_type": "execute_result"
    }
   ],
   "source": [
    "id_unique = df.select(\"id\").distinct().count()\n",
    "id_unique"
   ]
  },
  {
   "cell_type": "markdown",
   "metadata": {},
   "source": [
    "## 3) Transformer la colonne timestamp\n",
    "\n",
    "Lorsqu'on vérifie le type de donnée de la colonne timestamp, on voit qu'on a une chaîne de caractères. Pour calculer une durée on voudrait transformer en date exploitable en tant que telle.\n",
    "A l'aide d'une fonction udf, créez une nouvelle colonne date qui contiendra le résultat de la transformation des chaînes de caractères de la colonne timestamp en véritables timestamps."
   ]
  },
  {
   "cell_type": "code",
   "execution_count": 5,
   "metadata": {},
   "outputs": [
    {
     "name": "stdout",
     "output_type": "stream",
     "text": [
      "root\n",
      " |-- id: integer (nullable = true)\n",
      " |-- timestamp: timestamp (nullable = true)\n",
      " |-- sur_velo: boolean (nullable = true)\n",
      " |-- velo: string (nullable = true)\n",
      " |-- vitesse: double (nullable = true)\n",
      " |-- position: string (nullable = true)\n",
      " |-- destination_finale: string (nullable = true)\n",
      "\n"
     ]
    }
   ],
   "source": [
    "from pyspark.sql.types import TimestampType\n",
    "from pyspark.sql.functions import unix_timestamp\n",
    "df_convertion = df.withColumn(\"timestamp\",unix_timestamp(\"timestamp\", 'yyyy-MM-dd HH:mm:ss').cast(TimestampType()))\n",
    "df_convertion.printSchema()"
   ]
  },
  {
   "cell_type": "markdown",
   "metadata": {},
   "source": [
    "## 4) Durée des trajets par id.\n",
    "\n",
    "1) Trouvez les dates min/max par état de sur_velo, puis par id ET par état de sur_velo."
   ]
  },
  {
   "cell_type": "code",
   "execution_count": 6,
   "metadata": {},
   "outputs": [],
   "source": [
    "from pyspark.sql.functions import min, max\n",
    "from pyspark.sql.functions import col"
   ]
  },
  {
   "cell_type": "code",
   "execution_count": 7,
   "metadata": {},
   "outputs": [
    {
     "name": "stdout",
     "output_type": "stream",
     "text": [
      "+--------+-------------------+-------------------+\n",
      "|sur_velo|           Max_Date|           Min_Date|\n",
      "+--------+-------------------+-------------------+\n",
      "|   false|2018-02-01 00:00:00|2018-01-01 00:01:00|\n",
      "|    true|2018-01-31 21:32:00|2018-01-01 01:47:00|\n",
      "+--------+-------------------+-------------------+\n",
      "\n",
      "+---+--------+-------------------+-------------------+\n",
      "| id|sur_velo|           Max_Date|           Min_Date|\n",
      "+---+--------+-------------------+-------------------+\n",
      "|  2|   false|2018-02-01 00:00:00|2018-01-01 00:01:00|\n",
      "|  2|    true|2018-01-31 20:02:00|2018-01-01 12:33:00|\n",
      "|  3|   false|2018-02-01 00:00:00|2018-01-01 00:01:00|\n",
      "|  3|    true|2018-01-28 19:33:00|2018-01-06 06:24:00|\n",
      "|  4|   false|2018-02-01 00:00:00|2018-01-01 00:01:00|\n",
      "|  4|    true|2018-01-28 15:19:00|2018-01-06 09:48:00|\n",
      "|  5|   false|2018-02-01 00:00:00|2018-01-01 00:01:00|\n",
      "|  5|    true|2018-01-28 16:04:00|2018-01-06 12:35:00|\n",
      "|  6|   false|2018-02-01 00:00:00|2018-01-01 00:01:00|\n",
      "|  6|    true|2018-01-30 20:01:00|2018-01-01 07:07:00|\n",
      "|  7|   false|2018-02-01 00:00:00|2018-01-01 00:01:00|\n",
      "|  7|    true|2018-01-31 18:43:00|2018-01-01 06:33:00|\n",
      "|  8|   false|2018-02-01 00:00:00|2018-01-01 00:01:00|\n",
      "|  8|    true|2018-01-28 19:44:00|2018-01-06 05:14:00|\n",
      "|  9|   false|2018-02-01 00:00:00|2018-01-01 00:01:00|\n",
      "|  9|    true|2018-01-28 14:03:00|2018-01-06 06:54:00|\n",
      "| 10|   false|2018-02-01 00:00:00|2018-01-01 00:01:00|\n",
      "| 10|    true|2018-01-30 17:32:00|2018-01-01 08:35:00|\n",
      "| 11|   false|2018-02-01 00:00:00|2018-01-01 00:01:00|\n",
      "| 11|    true|2018-01-31 14:05:00|2018-01-01 07:48:00|\n",
      "+---+--------+-------------------+-------------------+\n",
      "only showing top 20 rows\n",
      "\n"
     ]
    }
   ],
   "source": [
    "date_sur_velo = df.groupBy(\"sur_velo\").agg(max(\"timestamp\").alias(\"Max_Date\"), min(\"timestamp\").alias(\"Min_Date\"))\n",
    "date_id_sur_velo = df.groupBy(\"id\",\"sur_velo\").agg(max(\"timestamp\").alias(\"Max_Date\"), min(\"timestamp\").alias(\"Min_Date\"))\n",
    "date_sur_velo.show()\n",
    "date_id_sur_velo.show()"
   ]
  },
  {
   "cell_type": "markdown",
   "metadata": {},
   "source": [
    "2) Le résultat n'est pas trés pertinent, il faudrait plutôt le début et la fin de chaque trajet par id. Pour cela, il faudrait détecter les changements d'état \"sur_vélo\".\n",
    "\n",
    "Créez une fonction python (voir fonction udf) qui permet de detecter ces changements d'état.\n",
    "Utilisez la classe Window() et la fonction F.lag() avec votre fonction udf pour créer une nouvelle colonne que vous appellerez changement, contenant un 0 si l'état précedent de sur_velo est le même et un 1 si l'état vient de changer pour chaque id."
   ]
  },
  {
   "cell_type": "code",
   "execution_count": 8,
   "metadata": {},
   "outputs": [],
   "source": [
    "import pyspark.sql.functions as F\n",
    "from pyspark.sql.types import ArrayType, StructField, StructType, DoubleType, StringType\n",
    "import sys\n",
    "from datetime import datetime, timedelta"
   ]
  },
  {
   "cell_type": "code",
   "execution_count": 9,
   "metadata": {},
   "outputs": [
    {
     "name": "stdout",
     "output_type": "stream",
     "text": [
      "+---+-------------------+--------+--------------------+------------------+-------------------+-------------------+----------+\n",
      "| id|          timestamp|sur_velo|                velo|           vitesse|           position| destination_finale|changement|\n",
      "+---+-------------------+--------+--------------------+------------------+-------------------+-------------------+----------+\n",
      "| 26|2018-01-01 07:50:00|    true|velo_velo_184_per...|1.3426185861104318|(lon:4.00 lat:1.00)|(lon:2.87 lat:1.22)|         1|\n",
      "| 26|2018-01-01 07:51:00|    true|velo_velo_184_per...|1.3426185861104318|(lon:3.00 lat:1.00)|(lon:2.87 lat:1.22)|         0|\n",
      "| 26|2018-01-01 17:55:00|    true|velo_velo_105_per...|1.3426185861104318|(lon:3.00 lat:1.00)|(lon:3.84 lat:0.82)|         1|\n",
      "| 26|2018-01-01 17:56:00|    true|velo_velo_105_per...|1.3426185861104318|(lon:4.00 lat:1.00)|(lon:3.84 lat:0.82)|         0|\n",
      "| 26|2018-01-02 07:50:00|    true|velo_velo_177_per...|1.3426185861104318|(lon:4.00 lat:1.00)|(lon:2.87 lat:1.22)|         1|\n",
      "| 26|2018-01-02 07:51:00|    true|velo_velo_177_per...|1.3426185861104318|(lon:3.00 lat:1.00)|(lon:2.87 lat:1.22)|         0|\n",
      "| 26|2018-01-02 17:55:00|    true|velo_velo_137_per...|1.3426185861104318|(lon:3.00 lat:1.00)|(lon:3.84 lat:0.82)|         1|\n",
      "| 26|2018-01-02 17:56:00|    true|velo_velo_137_per...|1.3426185861104318|(lon:4.00 lat:1.00)|(lon:3.84 lat:0.82)|         0|\n",
      "| 26|2018-01-04 07:54:00|    true|velo_velo_127_per...|1.3426185861104318|(lon:4.00 lat:2.00)|(lon:2.87 lat:1.22)|         1|\n",
      "| 26|2018-01-04 07:55:00|    true|velo_velo_127_per...|1.3426185861104318|(lon:3.05 lat:1.05)|(lon:2.87 lat:1.22)|         0|\n",
      "| 26|2018-01-04 07:56:00|    true|velo_velo_127_per...|1.3426185861104318|(lon:3.00 lat:1.00)|(lon:2.87 lat:1.22)|         0|\n",
      "| 26|2018-01-04 17:55:00|    true|velo_velo_15_perf...|1.3426185861104318|(lon:3.00 lat:1.00)|(lon:3.84 lat:0.82)|         1|\n",
      "| 26|2018-01-04 17:56:00|    true|velo_velo_15_perf...|1.3426185861104318|(lon:4.00 lat:1.00)|(lon:3.84 lat:0.82)|         0|\n",
      "| 26|2018-01-05 07:50:00|    true|velo_velo_173_per...|1.3426185861104318|(lon:4.00 lat:1.00)|(lon:2.87 lat:1.22)|         1|\n",
      "| 26|2018-01-05 07:51:00|    true|velo_velo_173_per...|1.3426185861104318|(lon:3.00 lat:1.00)|(lon:2.87 lat:1.22)|         0|\n",
      "| 26|2018-01-05 17:55:00|    true|velo_velo_127_per...|1.3426185861104318|(lon:3.00 lat:1.00)|(lon:3.84 lat:0.82)|         1|\n",
      "| 26|2018-01-05 17:56:00|    true|velo_velo_127_per...|1.3426185861104318|(lon:4.00 lat:1.00)|(lon:3.84 lat:0.82)|         0|\n",
      "| 26|2018-01-06 07:50:00|    true|velo_velo_127_per...|1.3426185861104318|(lon:4.00 lat:1.00)|(lon:2.87 lat:1.22)|         1|\n",
      "| 26|2018-01-06 07:51:00|    true|velo_velo_127_per...|1.3426185861104318|(lon:3.00 lat:1.00)|(lon:2.87 lat:1.22)|         0|\n",
      "| 26|2018-01-06 17:55:00|    true|velo_velo_56_perf...|1.3426185861104318|(lon:3.00 lat:1.00)|(lon:3.84 lat:0.82)|         1|\n",
      "+---+-------------------+--------+--------------------+------------------+-------------------+-------------------+----------+\n",
      "only showing top 20 rows\n",
      "\n"
     ]
    }
   ],
   "source": [
    "windowSpec = Window.partitionBy('id')\\\n",
    "                   .orderBy(['id','timestamp'])\n",
    "\n",
    "def detect_change_sur_velo(_prec,_now):\n",
    "    if(_prec == None):\n",
    "        return 0\n",
    "    elif _prec == _now:\n",
    "        return 0\n",
    "    elif _prec != _now:\n",
    "        return 1\n",
    "detect_udf = F.udf(detect_change_sur_velo,IntegerType())\n",
    "\n",
    "df_sur_velo = df.withColumn('changement', detect_udf(F.lag('sur_velo',1).over(windowSpec),F.lag('sur_velo',0).over(windowSpec)))\n",
    "df_sur_velo.filter(df_sur_velo.sur_velo == 1).show()"
   ]
  },
  {
   "cell_type": "markdown",
   "metadata": {},
   "source": [
    "3) Grâce à cette nouvelle colonne changement, trouvez un moyen qui permettra de numeroter les trajets pour chaque id et stockez les résulats dans une nouvelle colonne appelée numero_de_trajet."
   ]
  },
  {
   "cell_type": "code",
   "execution_count": 10,
   "metadata": {},
   "outputs": [
    {
     "name": "stdout",
     "output_type": "stream",
     "text": [
      "+---+-------------------+--------+-----+-----------------+-------------------+------------------+----------+----------------+\n",
      "| id|          timestamp|sur_velo| velo|          vitesse|           position|destination_finale|changement|numero_de_trajet|\n",
      "+---+-------------------+--------+-----+-----------------+-------------------+------------------+----------+----------------+\n",
      "| 26|2018-01-01 00:01:00|   false|False|0.592331729166367|(lon:3.84 lat:0.82)|             False|         0|               0|\n",
      "| 26|2018-01-01 00:02:00|   false|False|0.592331729166367|(lon:3.84 lat:0.82)|             False|         0|               0|\n",
      "| 26|2018-01-01 00:03:00|   false|False|0.592331729166367|(lon:3.84 lat:0.82)|             False|         0|               0|\n",
      "| 26|2018-01-01 00:04:00|   false|False|0.592331729166367|(lon:3.84 lat:0.82)|             False|         0|               0|\n",
      "| 26|2018-01-01 00:05:00|   false|False|0.592331729166367|(lon:3.84 lat:0.82)|             False|         0|               0|\n",
      "| 26|2018-01-01 00:06:00|   false|False|0.592331729166367|(lon:3.84 lat:0.82)|             False|         0|               0|\n",
      "| 26|2018-01-01 00:07:00|   false|False|0.592331729166367|(lon:3.84 lat:0.82)|             False|         0|               0|\n",
      "| 26|2018-01-01 00:08:00|   false|False|0.592331729166367|(lon:3.84 lat:0.82)|             False|         0|               0|\n",
      "| 26|2018-01-01 00:09:00|   false|False|0.592331729166367|(lon:3.84 lat:0.82)|             False|         0|               0|\n",
      "| 26|2018-01-01 00:10:00|   false|False|0.592331729166367|(lon:3.84 lat:0.82)|             False|         0|               0|\n",
      "| 26|2018-01-01 00:11:00|   false|False|0.592331729166367|(lon:3.84 lat:0.82)|             False|         0|               0|\n",
      "| 26|2018-01-01 00:12:00|   false|False|0.592331729166367|(lon:3.84 lat:0.82)|             False|         0|               0|\n",
      "| 26|2018-01-01 00:13:00|   false|False|0.592331729166367|(lon:3.84 lat:0.82)|             False|         0|               0|\n",
      "| 26|2018-01-01 00:14:00|   false|False|0.592331729166367|(lon:3.84 lat:0.82)|             False|         0|               0|\n",
      "| 26|2018-01-01 00:15:00|   false|False|0.592331729166367|(lon:3.84 lat:0.82)|             False|         0|               0|\n",
      "| 26|2018-01-01 00:16:00|   false|False|0.592331729166367|(lon:3.84 lat:0.82)|             False|         0|               0|\n",
      "| 26|2018-01-01 00:17:00|   false|False|0.592331729166367|(lon:3.84 lat:0.82)|             False|         0|               0|\n",
      "| 26|2018-01-01 00:18:00|   false|False|0.592331729166367|(lon:3.84 lat:0.82)|             False|         0|               0|\n",
      "| 26|2018-01-01 00:19:00|   false|False|0.592331729166367|(lon:3.84 lat:0.82)|             False|         0|               0|\n",
      "| 26|2018-01-01 00:20:00|   false|False|0.592331729166367|(lon:3.84 lat:0.82)|             False|         0|               0|\n",
      "+---+-------------------+--------+-----+-----------------+-------------------+------------------+----------+----------------+\n",
      "only showing top 20 rows\n",
      "\n"
     ]
    }
   ],
   "source": [
    "windowSpec2 = Window.partitionBy('id').orderBy().rowsBetween(-sys.maxsize, 0)\n",
    "df_sum = df_sur_velo.withColumn('numero_de_trajet', F.sum(df_sur_velo.changement).over(windowSpec2))\n",
    "df_sum.show()"
   ]
  },
  {
   "cell_type": "markdown",
   "metadata": {},
   "source": [
    "4) Il suffit maintenant de repêter la première étape, c'est a dire récupérer la début et la fin de chaque trajet pour chaque id, puis calculer la durée des trajets. \n",
    "\n",
    "(Pensez à récuperer les \"vrai trajet au préalable (avec un état sur_vélo = 1)."
   ]
  },
  {
   "cell_type": "code",
   "execution_count": 11,
   "metadata": {},
   "outputs": [
    {
     "name": "stdout",
     "output_type": "stream",
     "text": [
      "+---+----------------+-------------------+-------------------+-----+\n",
      "| id|numero_de_trajet|     max(timestamp)|     min(timestamp)|duree|\n",
      "+---+----------------+-------------------+-------------------+-----+\n",
      "| 26|               1|2018-01-01 07:51:00|2018-01-01 07:50:00|  1.0|\n",
      "| 26|               3|2018-01-01 17:56:00|2018-01-01 17:55:00|  1.0|\n",
      "| 26|               5|2018-01-02 07:51:00|2018-01-02 07:50:00|  1.0|\n",
      "| 26|               7|2018-01-02 17:56:00|2018-01-02 17:55:00|  1.0|\n",
      "| 26|               9|2018-01-04 07:56:00|2018-01-04 07:54:00|  2.0|\n",
      "| 26|              11|2018-01-04 17:56:00|2018-01-04 17:55:00|  1.0|\n",
      "| 26|              13|2018-01-05 07:51:00|2018-01-05 07:50:00|  1.0|\n",
      "| 26|              15|2018-01-05 17:56:00|2018-01-05 17:55:00|  1.0|\n",
      "| 26|              17|2018-01-06 07:51:00|2018-01-06 07:50:00|  1.0|\n",
      "| 26|              19|2018-01-06 17:56:00|2018-01-06 17:55:00|  1.0|\n",
      "| 26|              21|2018-01-07 07:51:00|2018-01-07 07:50:00|  1.0|\n",
      "| 26|              23|2018-01-07 17:56:00|2018-01-07 17:55:00|  1.0|\n",
      "| 26|              25|2018-01-08 07:51:00|2018-01-08 07:50:00|  1.0|\n",
      "| 26|              27|2018-01-08 17:56:00|2018-01-08 17:55:00|  1.0|\n",
      "| 26|              29|2018-01-09 07:51:00|2018-01-09 07:50:00|  1.0|\n",
      "| 26|              31|2018-01-09 17:56:00|2018-01-09 17:55:00|  1.0|\n",
      "| 26|              33|2018-01-11 07:51:00|2018-01-11 07:50:00|  1.0|\n",
      "| 26|              35|2018-01-11 17:58:00|2018-01-11 17:55:00|  3.0|\n",
      "| 26|              37|2018-01-12 07:51:00|2018-01-12 07:50:00|  1.0|\n",
      "| 26|              39|2018-01-12 17:56:00|2018-01-12 17:55:00|  1.0|\n",
      "+---+----------------+-------------------+-------------------+-----+\n",
      "only showing top 20 rows\n",
      "\n"
     ]
    }
   ],
   "source": [
    "def calcul_date_dif(debut,fin): \n",
    "    return ((datetime.fromisoformat(fin) - datetime.fromisoformat(debut)).total_seconds()) / 60\n",
    "detect_udf = F.udf(calcul_date_dif)\n",
    "\n",
    "test = df_sum.filter(df_sum.sur_velo == 1)\n",
    "df_diff = test.groupBy(\"id\",\"numero_de_trajet\").agg(F.max(df_sum.timestamp),F.min(df_sum.timestamp))\n",
    "df_diff = df_diff.withColumn(\"duree\", detect_udf(df_diff[\"min(timestamp)\"], df_diff[\"max(timestamp)\"]))\n",
    "df_diff.show()"
   ]
  },
  {
   "cell_type": "markdown",
   "metadata": {},
   "source": [
    "## 5) Data visualisation\n",
    "\n",
    "Convertissez votre dataframe pyspark en dataframe pandas."
   ]
  },
  {
   "cell_type": "code",
   "execution_count": 17,
   "metadata": {
    "scrolled": true
   },
   "outputs": [],
   "source": [
    "pandasDF = df_sum.toPandas()"
   ]
  },
  {
   "cell_type": "markdown",
   "metadata": {},
   "source": [
    "1) A l'aide des librairies matplotlib et/ou seaborn, réalisez un graphique en barre montrant le temps total passé à vélo par chaque cycliste."
   ]
  },
  {
   "cell_type": "code",
   "execution_count": 18,
   "metadata": {},
   "outputs": [],
   "source": [
    "import seaborn as sns\n",
    "import matplotlib\n",
    "import matplotlib.pyplot as plt"
   ]
  },
  {
   "cell_type": "code",
   "execution_count": 19,
   "metadata": {},
   "outputs": [
    {
     "data": {
      "image/png": "[encoded data removed]",
      "text/plain": [
       "<Figure size 432x288 with 1 Axes>"
      ]
     },
     "metadata": {
      "needs_background": "light"
     },
     "output_type": "display_data"
    }
   ],
   "source": [
    "truecol = pandasDF.groupby('sur_velo').head()\n",
    "truecol = pandasDF.loc[pandasDF.sur_velo == True]\n",
    "datas = truecol.groupby('id').count()\n",
    "groups = datas.to_dict()\n",
    "keys = groups['timestamp'].keys()\n",
    "values = datas['timestamp'].to_dict().values\n",
    "plt.bar(range(len(groups['timestamp'])), list(groups['timestamp'].values()), align='center')\n",
    "plt.xticks(range(len(groups['timestamp'])), list(groups['timestamp'].keys()))\n",
    "plt.show()"
   ]
  },
  {
   "cell_type": "markdown",
   "metadata": {},
   "source": [
    "2) Réalisez un graphique en barre qui affiche le temps de chaque trajet d'un cycliste. Faites en sorte qu'on puisse choisir un id et afficher les trajets de cet id."
   ]
  },
  {
   "cell_type": "code",
   "execution_count": 15,
   "metadata": {},
   "outputs": [],
   "source": []
  },
  {
   "cell_type": "markdown",
   "metadata": {},
   "source": [
    "## 6) Sauvegarde\n",
    "\n",
    "Sauvegardez votre dataset trajets au format csv dans le dossier data."
   ]
  },
  {
   "cell_type": "code",
   "execution_count": null,
   "metadata": {
    "scrolled": true
   },
   "outputs": [],
   "source": [
    "pandasDF.to_csv('./test.csv')"
   ]
  }
 ],
 "metadata": {
  "kernelspec": {
   "display_name": "Python 3 (ipykernel)",
   "language": "python",
   "name": "python3"
  },
  "language_info": {
   "codemirror_mode": {
    "name": "ipython",
    "version": 3
   },
   "file_extension": ".py",
   "mimetype": "text/x-python",
   "name": "python",
   "nbconvert_exporter": "python",
   "pygments_lexer": "ipython3",
   "version": "3.9.7"
  }
 },
 "nbformat": 4,
 "nbformat_minor": 4
}
