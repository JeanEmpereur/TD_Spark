{
 "cells": [
  {
   "cell_type": "markdown",
   "metadata": {},
   "source": [
    "# Etude de cas : analyse des fichiers de logs des cyclistes\n",
    "\n",
    "Objectif: A partir des fichiers contenu dans le dossier ./data/Cyclistes, calculer la durée de chacun des trajets effectués par chaque cycliste."
   ]
  },
  {
   "cell_type": "code",
   "execution_count": 1,
   "metadata": {},
   "outputs": [],
   "source": [
    "from pyspark.sql import SparkSession\n",
    "from pyspark.sql.types import *\n",
    "from pyspark.sql import functions as F\n",
    "from pyspark.sql.types import *\n",
    "from pyspark.sql.functions import udf\n",
    "from pyspark.sql.window import Window\n",
    "from pyspark.sql.types import TimestampType\n",
    "from pyspark.sql.functions import unix_timestamp\n",
    "from pyspark.sql.functions import min, max\n",
    "from pyspark.sql.functions import col\n",
    "import pyspark.sql.functions as F\n",
    "from pyspark.sql.types import ArrayType, StructField, StructType, DoubleType, StringType\n",
    "import sys\n",
    "from datetime import datetime, timedelta\n",
    "import pandas as pd"
   ]
  },
  {
   "cell_type": "markdown",
   "metadata": {},
   "source": [
    "## 1)  Charger la donnée\n",
    "Créez une seesion Spark et chargez les données Cyclistes."
   ]
  },
  {
   "cell_type": "code",
   "execution_count": 2,
   "metadata": {},
   "outputs": [],
   "source": [
    "spark = SparkSession.builder.getOrCreate()"
   ]
  },
  {
   "cell_type": "code",
   "execution_count": 3,
   "metadata": {},
   "outputs": [
    {
     "name": "stdout",
     "output_type": "stream",
     "text": [
      "+---+-------------------+--------+-----+--------------------+-------------------+------------------+\n",
      "| id|          timestamp|sur_velo| velo|             vitesse|           position|destination_finale|\n",
      "+---+-------------------+--------+-----+--------------------+-------------------+------------------+\n",
      "| 12|2018-01-01 00:01:00|   false|False|0.030000000000000006|(lon:2.07 lat:1.24)|             False|\n",
      "| 12|2018-01-01 00:02:00|   false|False|0.030000000000000006|(lon:2.07 lat:1.24)|             False|\n",
      "| 12|2018-01-01 00:03:00|   false|False|0.030000000000000006|(lon:2.07 lat:1.24)|             False|\n",
      "| 12|2018-01-01 00:04:00|   false|False|0.030000000000000006|(lon:2.07 lat:1.24)|             False|\n",
      "| 12|2018-01-01 00:05:00|   false|False|0.030000000000000006|(lon:2.07 lat:1.24)|             False|\n",
      "| 12|2018-01-01 00:06:00|   false|False|0.030000000000000006|(lon:2.07 lat:1.24)|             False|\n",
      "| 12|2018-01-01 00:07:00|   false|False|0.030000000000000006|(lon:2.07 lat:1.24)|             False|\n",
      "| 12|2018-01-01 00:08:00|   false|False|0.030000000000000006|(lon:2.07 lat:1.24)|             False|\n",
      "| 12|2018-01-01 00:09:00|   false|False|0.030000000000000006|(lon:2.07 lat:1.24)|             False|\n",
      "| 12|2018-01-01 00:10:00|   false|False|0.030000000000000006|(lon:2.07 lat:1.24)|             False|\n",
      "| 12|2018-01-01 00:11:00|   false|False|0.030000000000000006|(lon:2.07 lat:1.24)|             False|\n",
      "| 12|2018-01-01 00:12:00|   false|False|0.030000000000000006|(lon:2.07 lat:1.24)|             False|\n",
      "| 12|2018-01-01 00:13:00|   false|False|0.030000000000000006|(lon:2.07 lat:1.24)|             False|\n",
      "| 12|2018-01-01 00:14:00|   false|False|0.030000000000000006|(lon:2.07 lat:1.24)|             False|\n",
      "| 12|2018-01-01 00:15:00|   false|False|0.030000000000000006|(lon:2.07 lat:1.24)|             False|\n",
      "| 12|2018-01-01 00:16:00|   false|False|0.030000000000000006|(lon:2.07 lat:1.24)|             False|\n",
      "| 12|2018-01-01 00:17:00|   false|False|0.030000000000000006|(lon:2.07 lat:1.24)|             False|\n",
      "| 12|2018-01-01 00:18:00|   false|False|0.030000000000000006|(lon:2.07 lat:1.24)|             False|\n",
      "| 12|2018-01-01 00:19:00|   false|False|0.030000000000000006|(lon:2.07 lat:1.24)|             False|\n",
      "| 12|2018-01-01 00:20:00|   false|False|0.030000000000000006|(lon:2.07 lat:1.24)|             False|\n",
      "+---+-------------------+--------+-----+--------------------+-------------------+------------------+\n",
      "only showing top 20 rows\n",
      "\n"
     ]
    }
   ],
   "source": [
    "path = \"./data/Cyclistes/\"\n",
    "df = spark.read.format('csv').options(header=True, inferSchema=True).load(path)\n",
    "df.show()"
   ]
  },
  {
   "cell_type": "markdown",
   "metadata": {},
   "source": [
    "## 2) Vérifier le nombre de cyclistes\n",
    "\n",
    "Comptez le nombre d'id uniques."
   ]
  },
  {
   "cell_type": "code",
   "execution_count": 4,
   "metadata": {},
   "outputs": [
    {
     "data": {
      "text/plain": [
       "50"
      ]
     },
     "execution_count": 4,
     "metadata": {},
     "output_type": "execute_result"
    }
   ],
   "source": [
    "id_unique = df.select(\"id\").distinct().count()\n",
    "id_unique"
   ]
  },
  {
   "cell_type": "markdown",
   "metadata": {},
   "source": [
    "## 3) Transformer la colonne timestamp\n",
    "\n",
    "Lorsqu'on vérifie le type de donnée de la colonne timestamp, on voit qu'on a une chaîne de caractères. Pour calculer une durée on voudrait transformer en date exploitable en tant que telle.\n",
    "A l'aide d'une fonction udf, créez une nouvelle colonne date qui contiendra le résultat de la transformation des chaînes de caractères de la colonne timestamp en véritables timestamps."
   ]
  },
  {
   "cell_type": "code",
   "execution_count": 5,
   "metadata": {},
   "outputs": [
    {
     "name": "stdout",
     "output_type": "stream",
     "text": [
      "root\n",
      " |-- id: integer (nullable = true)\n",
      " |-- timestamp: timestamp (nullable = true)\n",
      " |-- sur_velo: boolean (nullable = true)\n",
      " |-- velo: string (nullable = true)\n",
      " |-- vitesse: double (nullable = true)\n",
      " |-- position: string (nullable = true)\n",
      " |-- destination_finale: string (nullable = true)\n",
      "\n"
     ]
    }
   ],
   "source": [
    "df_convertion = df.withColumn(\"timestamp\",unix_timestamp(\"timestamp\", 'yyyy-MM-dd HH:mm:ss').cast(TimestampType()))\n",
    "df_convertion.printSchema()"
   ]
  },
  {
   "cell_type": "markdown",
   "metadata": {},
   "source": [
    "## 4) Durée des trajets par id.\n",
    "\n",
    "1) Trouvez les dates min/max par état de sur_velo, puis par id ET par état de sur_velo."
   ]
  },
  {
   "cell_type": "code",
   "execution_count": 6,
   "metadata": {},
   "outputs": [
    {
     "name": "stdout",
     "output_type": "stream",
     "text": [
      "+--------+-------------------+-------------------+\n",
      "|sur_velo|     max(timestamp)|     min(timestamp)|\n",
      "+--------+-------------------+-------------------+\n",
      "|    true|2018-01-31 21:32:00|2018-01-01 01:47:00|\n",
      "|   false|2018-02-01 00:00:00|2018-01-01 00:01:00|\n",
      "+--------+-------------------+-------------------+\n",
      "\n"
     ]
    }
   ],
   "source": [
    "#etat sur velo\n",
    "dateSurVelo = df_convertion.groupby(\"sur_velo\").agg(max(\"timestamp\"),min(\"timestamp\"))\n",
    "dateSurVelo.show()"
   ]
  },
  {
   "cell_type": "code",
   "execution_count": 7,
   "metadata": {},
   "outputs": [
    {
     "name": "stdout",
     "output_type": "stream",
     "text": [
      "+---+--------+-------------------+-------------------+\n",
      "| id|sur_velo|     max(timestamp)|     min(timestamp)|\n",
      "+---+--------+-------------------+-------------------+\n",
      "| 41|   false|2018-02-01 00:00:00|2018-01-01 00:01:00|\n",
      "| 29|   false|2018-02-01 00:00:00|2018-01-01 00:01:00|\n",
      "| 36|    true|2018-01-31 21:32:00|2018-01-01 08:47:00|\n",
      "| 15|    true|2018-01-31 20:31:00|2018-01-01 10:19:00|\n",
      "| 41|    true|2018-01-31 20:35:00|2018-01-01 08:38:00|\n",
      "| 12|    true|2018-01-31 16:49:00|2018-01-01 08:57:00|\n",
      "| 12|   false|2018-02-01 00:00:00|2018-01-01 00:01:00|\n",
      "| 29|    true|2018-01-30 22:29:00|2018-01-01 05:24:00|\n",
      "| 43|    true|2018-01-30 18:53:00|2018-01-01 07:44:00|\n",
      "| 36|   false|2018-02-01 00:00:00|2018-01-01 00:01:00|\n",
      "| 43|   false|2018-02-01 00:00:00|2018-01-01 00:01:00|\n",
      "| 15|   false|2018-02-01 00:00:00|2018-01-01 00:01:00|\n",
      "| 42|   false|2018-02-01 00:00:00|2018-01-01 00:01:00|\n",
      "| 23|   false|2018-02-01 00:00:00|2018-01-01 00:01:00|\n",
      "| 24|    true|2018-01-31 19:16:00|2018-01-01 08:57:00|\n",
      "| 10|    true|2018-01-30 17:32:00|2018-01-01 08:35:00|\n",
      "| 47|    true|2018-01-30 16:14:00|2018-01-01 04:09:00|\n",
      "| 14|   false|2018-02-01 00:00:00|2018-01-01 00:01:00|\n",
      "| 23|    true|2018-01-31 16:01:00|2018-01-01 05:41:00|\n",
      "| 24|   false|2018-02-01 00:00:00|2018-01-01 00:01:00|\n",
      "+---+--------+-------------------+-------------------+\n",
      "only showing top 20 rows\n",
      "\n"
     ]
    }
   ],
   "source": [
    "#id + etat sur velo\n",
    "dateSurVeloId = df_convertion.groupby(\"id\", \"sur_velo\").agg(max(\"timestamp\"),min(\"timestamp\"))\n",
    "dateSurVeloId.show()"
   ]
  },
  {
   "cell_type": "markdown",
   "metadata": {},
   "source": [
    "2) Le résultat n'est pas trés pertinent, il faudrait plutôt le début et la fin de chaque trajet par id. Pour cela, il faudrait détecter les changements d'état \"sur_vélo\".\n",
    "\n",
    "Créez une fonction python (voir fonction udf) qui permet de detecter ces changements d'état.\n",
    "Utilisez la classe Window() et la fonction F.lag() avec votre fonction udf pour créer une nouvelle colonne que vous appellerez changement, contenant un 0 si l'état précedent de sur_velo est le même et un 1 si l'état vient de changer pour chaque id."
   ]
  },
  {
   "cell_type": "code",
   "execution_count": 8,
   "metadata": {},
   "outputs": [],
   "source": [
    "windowSpec = Window.partitionBy('id').orderBy(['id','timestamp'])\n",
    "\n",
    "def detect_change_sur_velo(_prec,_now):\n",
    "    if(_prec == None):\n",
    "        return 0\n",
    "    elif _prec == _now:\n",
    "        return 0\n",
    "    elif _prec != _now:\n",
    "        return 1"
   ]
  },
  {
   "cell_type": "code",
   "execution_count": 9,
   "metadata": {},
   "outputs": [
    {
     "name": "stdout",
     "output_type": "stream",
     "text": [
      "+---+-------------------+--------+--------------------+------------------+-------------------+-------------------+----------+\n",
      "| id|          timestamp|sur_velo|                velo|           vitesse|           position| destination_finale|changement|\n",
      "+---+-------------------+--------+--------------------+------------------+-------------------+-------------------+----------+\n",
      "| 26|2018-01-01 07:50:00|    true|velo_velo_184_per...|1.3426185861104318|(lon:4.00 lat:1.00)|(lon:2.87 lat:1.22)|         1|\n",
      "| 26|2018-01-01 07:51:00|    true|velo_velo_184_per...|1.3426185861104318|(lon:3.00 lat:1.00)|(lon:2.87 lat:1.22)|         0|\n",
      "| 26|2018-01-01 17:55:00|    true|velo_velo_105_per...|1.3426185861104318|(lon:3.00 lat:1.00)|(lon:3.84 lat:0.82)|         1|\n",
      "| 26|2018-01-01 17:56:00|    true|velo_velo_105_per...|1.3426185861104318|(lon:4.00 lat:1.00)|(lon:3.84 lat:0.82)|         0|\n",
      "| 26|2018-01-02 07:50:00|    true|velo_velo_177_per...|1.3426185861104318|(lon:4.00 lat:1.00)|(lon:2.87 lat:1.22)|         1|\n",
      "| 26|2018-01-02 07:51:00|    true|velo_velo_177_per...|1.3426185861104318|(lon:3.00 lat:1.00)|(lon:2.87 lat:1.22)|         0|\n",
      "| 26|2018-01-02 17:55:00|    true|velo_velo_137_per...|1.3426185861104318|(lon:3.00 lat:1.00)|(lon:3.84 lat:0.82)|         1|\n",
      "| 26|2018-01-02 17:56:00|    true|velo_velo_137_per...|1.3426185861104318|(lon:4.00 lat:1.00)|(lon:3.84 lat:0.82)|         0|\n",
      "| 26|2018-01-04 07:54:00|    true|velo_velo_127_per...|1.3426185861104318|(lon:4.00 lat:2.00)|(lon:2.87 lat:1.22)|         1|\n",
      "| 26|2018-01-04 07:55:00|    true|velo_velo_127_per...|1.3426185861104318|(lon:3.05 lat:1.05)|(lon:2.87 lat:1.22)|         0|\n",
      "| 26|2018-01-04 07:56:00|    true|velo_velo_127_per...|1.3426185861104318|(lon:3.00 lat:1.00)|(lon:2.87 lat:1.22)|         0|\n",
      "| 26|2018-01-04 17:55:00|    true|velo_velo_15_perf...|1.3426185861104318|(lon:3.00 lat:1.00)|(lon:3.84 lat:0.82)|         1|\n",
      "| 26|2018-01-04 17:56:00|    true|velo_velo_15_perf...|1.3426185861104318|(lon:4.00 lat:1.00)|(lon:3.84 lat:0.82)|         0|\n",
      "| 26|2018-01-05 07:50:00|    true|velo_velo_173_per...|1.3426185861104318|(lon:4.00 lat:1.00)|(lon:2.87 lat:1.22)|         1|\n",
      "| 26|2018-01-05 07:51:00|    true|velo_velo_173_per...|1.3426185861104318|(lon:3.00 lat:1.00)|(lon:2.87 lat:1.22)|         0|\n",
      "| 26|2018-01-05 17:55:00|    true|velo_velo_127_per...|1.3426185861104318|(lon:3.00 lat:1.00)|(lon:3.84 lat:0.82)|         1|\n",
      "| 26|2018-01-05 17:56:00|    true|velo_velo_127_per...|1.3426185861104318|(lon:4.00 lat:1.00)|(lon:3.84 lat:0.82)|         0|\n",
      "| 26|2018-01-06 07:50:00|    true|velo_velo_127_per...|1.3426185861104318|(lon:4.00 lat:1.00)|(lon:2.87 lat:1.22)|         1|\n",
      "| 26|2018-01-06 07:51:00|    true|velo_velo_127_per...|1.3426185861104318|(lon:3.00 lat:1.00)|(lon:2.87 lat:1.22)|         0|\n",
      "| 26|2018-01-06 17:55:00|    true|velo_velo_56_perf...|1.3426185861104318|(lon:3.00 lat:1.00)|(lon:3.84 lat:0.82)|         1|\n",
      "+---+-------------------+--------+--------------------+------------------+-------------------+-------------------+----------+\n",
      "only showing top 20 rows\n",
      "\n"
     ]
    }
   ],
   "source": [
    "detect_udf = F.udf(detect_change_sur_velo,IntegerType())\n",
    "df_sur_velo = df.withColumn('changement', detect_udf(F.lag('sur_velo',1).over(windowSpec),F.lag('sur_velo',0).over(windowSpec)))\n",
    "df_sur_velo.filter(df_sur_velo.sur_velo == 1).show()"
   ]
  },
  {
   "cell_type": "markdown",
   "metadata": {},
   "source": [
    "3) Grâce à cette nouvelle colonne changement, trouvez un moyen qui permettra de numeroter les trajets pour chaque id et stockez les résulats dans une nouvelle colonne appelée numero_de_trajet."
   ]
  },
  {
   "cell_type": "code",
   "execution_count": 10,
   "metadata": {},
   "outputs": [
    {
     "name": "stdout",
     "output_type": "stream",
     "text": [
      "+---+-------------------+--------+-----+-----------------+-------------------+------------------+----------+----------------+\n",
      "| id|          timestamp|sur_velo| velo|          vitesse|           position|destination_finale|changement|numero_de_trajet|\n",
      "+---+-------------------+--------+-----+-----------------+-------------------+------------------+----------+----------------+\n",
      "| 26|2018-01-01 00:01:00|   false|False|0.592331729166367|(lon:3.84 lat:0.82)|             False|         0|               0|\n",
      "| 26|2018-01-01 00:02:00|   false|False|0.592331729166367|(lon:3.84 lat:0.82)|             False|         0|               0|\n",
      "| 26|2018-01-01 00:03:00|   false|False|0.592331729166367|(lon:3.84 lat:0.82)|             False|         0|               0|\n",
      "| 26|2018-01-01 00:04:00|   false|False|0.592331729166367|(lon:3.84 lat:0.82)|             False|         0|               0|\n",
      "| 26|2018-01-01 00:05:00|   false|False|0.592331729166367|(lon:3.84 lat:0.82)|             False|         0|               0|\n",
      "| 26|2018-01-01 00:06:00|   false|False|0.592331729166367|(lon:3.84 lat:0.82)|             False|         0|               0|\n",
      "| 26|2018-01-01 00:07:00|   false|False|0.592331729166367|(lon:3.84 lat:0.82)|             False|         0|               0|\n",
      "| 26|2018-01-01 00:08:00|   false|False|0.592331729166367|(lon:3.84 lat:0.82)|             False|         0|               0|\n",
      "| 26|2018-01-01 00:09:00|   false|False|0.592331729166367|(lon:3.84 lat:0.82)|             False|         0|               0|\n",
      "| 26|2018-01-01 00:10:00|   false|False|0.592331729166367|(lon:3.84 lat:0.82)|             False|         0|               0|\n",
      "| 26|2018-01-01 00:11:00|   false|False|0.592331729166367|(lon:3.84 lat:0.82)|             False|         0|               0|\n",
      "| 26|2018-01-01 00:12:00|   false|False|0.592331729166367|(lon:3.84 lat:0.82)|             False|         0|               0|\n",
      "| 26|2018-01-01 00:13:00|   false|False|0.592331729166367|(lon:3.84 lat:0.82)|             False|         0|               0|\n",
      "| 26|2018-01-01 00:14:00|   false|False|0.592331729166367|(lon:3.84 lat:0.82)|             False|         0|               0|\n",
      "| 26|2018-01-01 00:15:00|   false|False|0.592331729166367|(lon:3.84 lat:0.82)|             False|         0|               0|\n",
      "| 26|2018-01-01 00:16:00|   false|False|0.592331729166367|(lon:3.84 lat:0.82)|             False|         0|               0|\n",
      "| 26|2018-01-01 00:17:00|   false|False|0.592331729166367|(lon:3.84 lat:0.82)|             False|         0|               0|\n",
      "| 26|2018-01-01 00:18:00|   false|False|0.592331729166367|(lon:3.84 lat:0.82)|             False|         0|               0|\n",
      "| 26|2018-01-01 00:19:00|   false|False|0.592331729166367|(lon:3.84 lat:0.82)|             False|         0|               0|\n",
      "| 26|2018-01-01 00:20:00|   false|False|0.592331729166367|(lon:3.84 lat:0.82)|             False|         0|               0|\n",
      "+---+-------------------+--------+-----+-----------------+-------------------+------------------+----------+----------------+\n",
      "only showing top 20 rows\n",
      "\n"
     ]
    }
   ],
   "source": [
    "windowSpec2 = Window.partitionBy('id').orderBy().rowsBetween(-sys.maxsize, 0)\n",
    "df_sum = df_sur_velo.withColumn('numero_de_trajet', F.sum(df_sur_velo.changement).over(windowSpec2))\n",
    "df_sum.show()"
   ]
  },
  {
   "cell_type": "code",
   "execution_count": 11,
   "metadata": {},
   "outputs": [
    {
     "name": "stdout",
     "output_type": "stream",
     "text": [
      "+---+-------------------+--------+--------------------+-----------------+-------------------+-------------------+----------+----------------+\n",
      "| id|          timestamp|sur_velo|                velo|          vitesse|           position| destination_finale|changement|numero_de_trajet|\n",
      "+---+-------------------+--------+--------------------+-----------------+-------------------+-------------------+----------+----------------+\n",
      "|  2|2018-01-01 12:33:00|    true|velo_velo_162_per...|5.313536596841792|(lon:3.00 lat:3.00)|(lon:2.34 lat:0.97)|         1|               1|\n",
      "|  2|2018-01-01 12:37:00|   false|               False|2.344207322136085|(lon:2.00 lat:2.00)|(lon:2.34 lat:0.97)|         1|               2|\n",
      "|  2|2018-01-01 19:59:00|    true|velo_velo_79_perf...|5.313536596841792|(lon:2.00 lat:1.00)|(lon:2.62 lat:2.59)|         1|               3|\n",
      "|  2|2018-01-01 20:01:00|   false|               False|2.344207322136085|(lon:3.00 lat:3.00)|(lon:2.62 lat:2.59)|         1|               4|\n",
      "|  2|2018-01-02 12:33:00|    true|velo_velo_153_per...|5.313536596841792|(lon:3.00 lat:3.00)|(lon:2.34 lat:0.97)|         1|               5|\n",
      "|  2|2018-01-02 12:35:00|   false|               False|2.344207322136085|(lon:2.00 lat:1.00)|(lon:2.34 lat:0.97)|         1|               6|\n",
      "|  2|2018-01-02 19:59:00|    true|velo_velo_153_per...|5.313536596841792|(lon:2.00 lat:1.00)|(lon:2.62 lat:2.59)|         1|               7|\n",
      "|  2|2018-01-02 20:01:00|   false|               False|2.344207322136085|(lon:3.00 lat:3.00)|(lon:2.62 lat:2.59)|         1|               8|\n",
      "|  2|2018-01-03 12:33:00|    true|velo_velo_165_per...|5.313536596841792|(lon:3.00 lat:3.00)|(lon:2.34 lat:0.97)|         1|               9|\n",
      "|  2|2018-01-03 12:35:00|   false|               False|2.344207322136085|(lon:2.00 lat:1.00)|(lon:2.34 lat:0.97)|         1|              10|\n",
      "|  2|2018-01-03 19:59:00|    true|velo_velo_143_per...|5.313536596841792|(lon:2.00 lat:1.00)|(lon:2.62 lat:2.59)|         1|              11|\n",
      "|  2|2018-01-03 20:01:00|   false|               False|2.344207322136085|(lon:3.00 lat:3.00)|(lon:2.62 lat:2.59)|         1|              12|\n",
      "|  2|2018-01-04 12:33:00|    true|velo_velo_156_per...|5.313536596841792|(lon:3.00 lat:3.00)|(lon:2.34 lat:0.97)|         1|              13|\n",
      "|  2|2018-01-04 12:35:00|   false|               False|2.344207322136085|(lon:2.00 lat:1.00)|(lon:2.34 lat:0.97)|         1|              14|\n",
      "|  2|2018-01-04 19:59:00|    true|velo_velo_156_per...|5.313536596841792|(lon:2.00 lat:1.00)|(lon:2.62 lat:2.59)|         1|              15|\n",
      "|  2|2018-01-04 20:01:00|   false|               False|2.344207322136085|(lon:3.00 lat:3.00)|(lon:2.62 lat:2.59)|         1|              16|\n",
      "|  2|2018-01-05 12:33:00|    true|velo_velo_159_per...|5.313536596841792|(lon:3.00 lat:3.00)|(lon:2.34 lat:0.97)|         1|              17|\n",
      "|  2|2018-01-05 12:35:00|   false|               False|2.344207322136085|(lon:2.00 lat:1.00)|(lon:2.34 lat:0.97)|         1|              18|\n",
      "|  2|2018-01-05 19:59:00|    true|velo_velo_159_per...|5.313536596841792|(lon:2.00 lat:1.00)|(lon:2.62 lat:2.59)|         1|              19|\n",
      "|  2|2018-01-05 20:01:00|   false|               False|2.344207322136085|(lon:3.00 lat:3.00)|(lon:2.62 lat:2.59)|         1|              20|\n",
      "+---+-------------------+--------+--------------------+-----------------+-------------------+-------------------+----------+----------------+\n",
      "only showing top 20 rows\n",
      "\n"
     ]
    }
   ],
   "source": [
    "df_sum.orderBy(\"id\", \"timestamp\").filter(df_sum.changement == 1).show()"
   ]
  },
  {
   "cell_type": "markdown",
   "metadata": {},
   "source": [
    "4) Il suffit maintenant de repêter la première étape, c'est a dire récupérer la début et la fin de chaque trajet pour chaque id, puis calculer la durée des trajets. \n",
    "\n",
    "(Pensez à récuperer les \"vrai trajet au préalable (avec un état sur_vélo = 1)."
   ]
  },
  {
   "cell_type": "code",
   "execution_count": 12,
   "metadata": {},
   "outputs": [
    {
     "name": "stdout",
     "output_type": "stream",
     "text": [
      "+---+-------------------+--------+--------------------+------------------+-------------------+-------------------+----------+----------------+\n",
      "| id|          timestamp|sur_velo|                velo|           vitesse|           position| destination_finale|changement|numero_de_trajet|\n",
      "+---+-------------------+--------+--------------------+------------------+-------------------+-------------------+----------+----------------+\n",
      "| 26|2018-01-01 07:50:00|    true|velo_velo_184_per...|1.3426185861104318|(lon:4.00 lat:1.00)|(lon:2.87 lat:1.22)|         1|               1|\n",
      "| 26|2018-01-01 07:51:00|    true|velo_velo_184_per...|1.3426185861104318|(lon:3.00 lat:1.00)|(lon:2.87 lat:1.22)|         0|               1|\n",
      "| 26|2018-01-01 17:55:00|    true|velo_velo_105_per...|1.3426185861104318|(lon:3.00 lat:1.00)|(lon:3.84 lat:0.82)|         1|               3|\n",
      "| 26|2018-01-01 17:56:00|    true|velo_velo_105_per...|1.3426185861104318|(lon:4.00 lat:1.00)|(lon:3.84 lat:0.82)|         0|               3|\n",
      "| 26|2018-01-02 07:50:00|    true|velo_velo_177_per...|1.3426185861104318|(lon:4.00 lat:1.00)|(lon:2.87 lat:1.22)|         1|               5|\n",
      "| 26|2018-01-02 07:51:00|    true|velo_velo_177_per...|1.3426185861104318|(lon:3.00 lat:1.00)|(lon:2.87 lat:1.22)|         0|               5|\n",
      "| 26|2018-01-02 17:55:00|    true|velo_velo_137_per...|1.3426185861104318|(lon:3.00 lat:1.00)|(lon:3.84 lat:0.82)|         1|               7|\n",
      "| 26|2018-01-02 17:56:00|    true|velo_velo_137_per...|1.3426185861104318|(lon:4.00 lat:1.00)|(lon:3.84 lat:0.82)|         0|               7|\n",
      "| 26|2018-01-04 07:54:00|    true|velo_velo_127_per...|1.3426185861104318|(lon:4.00 lat:2.00)|(lon:2.87 lat:1.22)|         1|               9|\n",
      "| 26|2018-01-04 07:55:00|    true|velo_velo_127_per...|1.3426185861104318|(lon:3.05 lat:1.05)|(lon:2.87 lat:1.22)|         0|               9|\n",
      "| 26|2018-01-04 07:56:00|    true|velo_velo_127_per...|1.3426185861104318|(lon:3.00 lat:1.00)|(lon:2.87 lat:1.22)|         0|               9|\n",
      "| 26|2018-01-04 17:55:00|    true|velo_velo_15_perf...|1.3426185861104318|(lon:3.00 lat:1.00)|(lon:3.84 lat:0.82)|         1|              11|\n",
      "| 26|2018-01-04 17:56:00|    true|velo_velo_15_perf...|1.3426185861104318|(lon:4.00 lat:1.00)|(lon:3.84 lat:0.82)|         0|              11|\n",
      "| 26|2018-01-05 07:50:00|    true|velo_velo_173_per...|1.3426185861104318|(lon:4.00 lat:1.00)|(lon:2.87 lat:1.22)|         1|              13|\n",
      "| 26|2018-01-05 07:51:00|    true|velo_velo_173_per...|1.3426185861104318|(lon:3.00 lat:1.00)|(lon:2.87 lat:1.22)|         0|              13|\n",
      "| 26|2018-01-05 17:55:00|    true|velo_velo_127_per...|1.3426185861104318|(lon:3.00 lat:1.00)|(lon:3.84 lat:0.82)|         1|              15|\n",
      "| 26|2018-01-05 17:56:00|    true|velo_velo_127_per...|1.3426185861104318|(lon:4.00 lat:1.00)|(lon:3.84 lat:0.82)|         0|              15|\n",
      "| 26|2018-01-06 07:50:00|    true|velo_velo_127_per...|1.3426185861104318|(lon:4.00 lat:1.00)|(lon:2.87 lat:1.22)|         1|              17|\n",
      "| 26|2018-01-06 07:51:00|    true|velo_velo_127_per...|1.3426185861104318|(lon:3.00 lat:1.00)|(lon:2.87 lat:1.22)|         0|              17|\n",
      "| 26|2018-01-06 17:55:00|    true|velo_velo_56_perf...|1.3426185861104318|(lon:3.00 lat:1.00)|(lon:3.84 lat:0.82)|         1|              19|\n",
      "+---+-------------------+--------+--------------------+------------------+-------------------+-------------------+----------+----------------+\n",
      "only showing top 20 rows\n",
      "\n"
     ]
    }
   ],
   "source": [
    "df_sum_filter = df_sum.filter(df_sum.sur_velo == 1)\n",
    "df_sum_filter.show()"
   ]
  },
  {
   "cell_type": "code",
   "execution_count": 13,
   "metadata": {},
   "outputs": [],
   "source": [
    "def calcul_date_diff(debut,fin): \n",
    "    return ((fin - debut).total_seconds()) / 60\n",
    "    # return ((datetime.fromisoformat(fin) - datetime.fromisoformat(debut)).total_seconds()) / 60\n",
    "detect_udf = F.udf(calcul_date_diff)"
   ]
  },
  {
   "cell_type": "code",
   "execution_count": 14,
   "metadata": {},
   "outputs": [
    {
     "name": "stdout",
     "output_type": "stream",
     "text": [
      "+---+----------------+-------------------+-------------------+\n",
      "| id|numero_de_trajet|           max_date|           min_date|\n",
      "+---+----------------+-------------------+-------------------+\n",
      "| 26|               1|2018-01-01 07:51:00|2018-01-01 07:50:00|\n",
      "| 26|               3|2018-01-01 17:56:00|2018-01-01 17:55:00|\n",
      "| 26|               5|2018-01-02 07:51:00|2018-01-02 07:50:00|\n",
      "| 26|               7|2018-01-02 17:56:00|2018-01-02 17:55:00|\n",
      "| 26|               9|2018-01-04 07:56:00|2018-01-04 07:54:00|\n",
      "| 26|              11|2018-01-04 17:56:00|2018-01-04 17:55:00|\n",
      "| 26|              13|2018-01-05 07:51:00|2018-01-05 07:50:00|\n",
      "| 26|              15|2018-01-05 17:56:00|2018-01-05 17:55:00|\n",
      "| 26|              17|2018-01-06 07:51:00|2018-01-06 07:50:00|\n",
      "| 26|              19|2018-01-06 17:56:00|2018-01-06 17:55:00|\n",
      "| 26|              21|2018-01-07 07:51:00|2018-01-07 07:50:00|\n",
      "| 26|              23|2018-01-07 17:56:00|2018-01-07 17:55:00|\n",
      "| 26|              25|2018-01-08 07:51:00|2018-01-08 07:50:00|\n",
      "| 26|              27|2018-01-08 17:56:00|2018-01-08 17:55:00|\n",
      "| 26|              29|2018-01-09 07:51:00|2018-01-09 07:50:00|\n",
      "| 26|              31|2018-01-09 17:56:00|2018-01-09 17:55:00|\n",
      "| 26|              33|2018-01-11 07:51:00|2018-01-11 07:50:00|\n",
      "| 26|              35|2018-01-11 17:58:00|2018-01-11 17:55:00|\n",
      "| 26|              37|2018-01-12 07:51:00|2018-01-12 07:50:00|\n",
      "| 26|              39|2018-01-12 17:56:00|2018-01-12 17:55:00|\n",
      "+---+----------------+-------------------+-------------------+\n",
      "only showing top 20 rows\n",
      "\n"
     ]
    }
   ],
   "source": [
    "df_diff = df_sum_filter.groupBy(\"id\",\"numero_de_trajet\").agg(F.max(df_sum.timestamp).alias(\"max_date\"),F.min(df_sum.timestamp).alias(\"min_date\"))\n",
    "df_diff.show()"
   ]
  },
  {
   "cell_type": "code",
   "execution_count": 15,
   "metadata": {},
   "outputs": [
    {
     "name": "stdout",
     "output_type": "stream",
     "text": [
      "+---+----------------+-------------------+-------------------+-----+\n",
      "| id|numero_de_trajet|           max_date|           min_date|duree|\n",
      "+---+----------------+-------------------+-------------------+-----+\n",
      "| 26|               1|2018-01-01 07:51:00|2018-01-01 07:50:00|  1.0|\n",
      "| 26|               3|2018-01-01 17:56:00|2018-01-01 17:55:00|  1.0|\n",
      "| 26|               5|2018-01-02 07:51:00|2018-01-02 07:50:00|  1.0|\n",
      "| 26|               7|2018-01-02 17:56:00|2018-01-02 17:55:00|  1.0|\n",
      "| 26|               9|2018-01-04 07:56:00|2018-01-04 07:54:00|  2.0|\n",
      "| 26|              11|2018-01-04 17:56:00|2018-01-04 17:55:00|  1.0|\n",
      "| 26|              13|2018-01-05 07:51:00|2018-01-05 07:50:00|  1.0|\n",
      "| 26|              15|2018-01-05 17:56:00|2018-01-05 17:55:00|  1.0|\n",
      "| 26|              17|2018-01-06 07:51:00|2018-01-06 07:50:00|  1.0|\n",
      "| 26|              19|2018-01-06 17:56:00|2018-01-06 17:55:00|  1.0|\n",
      "| 26|              21|2018-01-07 07:51:00|2018-01-07 07:50:00|  1.0|\n",
      "| 26|              23|2018-01-07 17:56:00|2018-01-07 17:55:00|  1.0|\n",
      "| 26|              25|2018-01-08 07:51:00|2018-01-08 07:50:00|  1.0|\n",
      "| 26|              27|2018-01-08 17:56:00|2018-01-08 17:55:00|  1.0|\n",
      "| 26|              29|2018-01-09 07:51:00|2018-01-09 07:50:00|  1.0|\n",
      "| 26|              31|2018-01-09 17:56:00|2018-01-09 17:55:00|  1.0|\n",
      "| 26|              33|2018-01-11 07:51:00|2018-01-11 07:50:00|  1.0|\n",
      "| 26|              35|2018-01-11 17:58:00|2018-01-11 17:55:00|  3.0|\n",
      "| 26|              37|2018-01-12 07:51:00|2018-01-12 07:50:00|  1.0|\n",
      "| 26|              39|2018-01-12 17:56:00|2018-01-12 17:55:00|  1.0|\n",
      "+---+----------------+-------------------+-------------------+-----+\n",
      "only showing top 20 rows\n",
      "\n"
     ]
    }
   ],
   "source": [
    "df_diff = df_diff.withColumn(\"duree\", detect_udf(df_diff[\"min_date\"], df_diff[\"max_date\"]))\n",
    "df_diff.show()"
   ]
  },
  {
   "cell_type": "code",
   "execution_count": 44,
   "metadata": {},
   "outputs": [
    {
     "name": "stdout",
     "output_type": "stream",
     "text": [
      "+---+------+\n",
      "| id| duree|\n",
      "+---+------+\n",
      "| 31| 120.0|\n",
      "| 34| 341.0|\n",
      "| 28|  92.0|\n",
      "| 26|  72.0|\n",
      "| 27|  68.0|\n",
      "| 44|  65.0|\n",
      "| 12|1507.0|\n",
      "| 22|  71.0|\n",
      "| 47| 552.0|\n",
      "| 13| 114.0|\n",
      "|  6|1971.0|\n",
      "| 16|1304.0|\n",
      "|  3|3657.0|\n",
      "| 20| 524.0|\n",
      "| 40| 116.0|\n",
      "| 48| 252.0|\n",
      "|  5| 384.0|\n",
      "| 19|  68.0|\n",
      "| 41| 679.0|\n",
      "| 15|1532.0|\n",
      "+---+------+\n",
      "only showing top 20 rows\n",
      "\n"
     ]
    }
   ],
   "source": [
    "dureedf = df_diff.groupBy(\"id\").agg(F.sum(\"duree\").alias('duree'))\n",
    "dureedf.show()"
   ]
  },
  {
   "cell_type": "markdown",
   "metadata": {},
   "source": [
    "## 5) Data visualisation\n",
    "\n",
    "Convertissez votre dataframe pyspark en dataframe pandas."
   ]
  },
  {
   "cell_type": "code",
   "execution_count": 83,
   "metadata": {
    "scrolled": true
   },
   "outputs": [
    {
     "name": "stderr",
     "output_type": "stream",
     "text": [
      "/usr/local/spark/python/pyspark/sql/pandas/conversion.py:248: FutureWarning: Passing unit-less datetime64 dtype to .astype is deprecated and will raise in a future version. Pass 'datetime64[ns]' instead\n",
      "  series = series.astype(t, copy=False)\n",
      "/usr/local/spark/python/pyspark/sql/pandas/conversion.py:248: FutureWarning: Passing unit-less datetime64 dtype to .astype is deprecated and will raise in a future version. Pass 'datetime64[ns]' instead\n",
      "  series = series.astype(t, copy=False)\n"
     ]
    }
   ],
   "source": [
    "df_panda = dureedf.toPandas()\n",
    "df_panda2 = df_diff.toPandas()\n",
    "df_panda2['duree'] = df_panda2['duree'].astype(float)"
   ]
  },
  {
   "cell_type": "code",
   "execution_count": 84,
   "metadata": {},
   "outputs": [
    {
     "data": {
      "text/html": [
       "<div>\n",
       "<style scoped>\n",
       "    .dataframe tbody tr th:only-of-type {\n",
       "        vertical-align: middle;\n",
       "    }\n",
       "\n",
       "    .dataframe tbody tr th {\n",
       "        vertical-align: top;\n",
       "    }\n",
       "\n",
       "    .dataframe thead th {\n",
       "        text-align: right;\n",
       "    }\n",
       "</style>\n",
       "<table border=\"1\" class=\"dataframe\">\n",
       "  <thead>\n",
       "    <tr style=\"text-align: right;\">\n",
       "      <th></th>\n",
       "      <th>id</th>\n",
       "      <th>numero_de_trajet</th>\n",
       "      <th>max_date</th>\n",
       "      <th>min_date</th>\n",
       "      <th>duree</th>\n",
       "    </tr>\n",
       "  </thead>\n",
       "  <tbody>\n",
       "    <tr>\n",
       "      <th>0</th>\n",
       "      <td>26</td>\n",
       "      <td>1</td>\n",
       "      <td>2018-01-01 07:51:00</td>\n",
       "      <td>2018-01-01 07:50:00</td>\n",
       "      <td>1.0</td>\n",
       "    </tr>\n",
       "    <tr>\n",
       "      <th>1</th>\n",
       "      <td>26</td>\n",
       "      <td>3</td>\n",
       "      <td>2018-01-01 17:56:00</td>\n",
       "      <td>2018-01-01 17:55:00</td>\n",
       "      <td>1.0</td>\n",
       "    </tr>\n",
       "    <tr>\n",
       "      <th>2</th>\n",
       "      <td>26</td>\n",
       "      <td>5</td>\n",
       "      <td>2018-01-02 07:51:00</td>\n",
       "      <td>2018-01-02 07:50:00</td>\n",
       "      <td>1.0</td>\n",
       "    </tr>\n",
       "    <tr>\n",
       "      <th>3</th>\n",
       "      <td>26</td>\n",
       "      <td>7</td>\n",
       "      <td>2018-01-02 17:56:00</td>\n",
       "      <td>2018-01-02 17:55:00</td>\n",
       "      <td>1.0</td>\n",
       "    </tr>\n",
       "    <tr>\n",
       "      <th>4</th>\n",
       "      <td>26</td>\n",
       "      <td>9</td>\n",
       "      <td>2018-01-04 07:56:00</td>\n",
       "      <td>2018-01-04 07:54:00</td>\n",
       "      <td>2.0</td>\n",
       "    </tr>\n",
       "    <tr>\n",
       "      <th>...</th>\n",
       "      <td>...</td>\n",
       "      <td>...</td>\n",
       "      <td>...</td>\n",
       "      <td>...</td>\n",
       "      <td>...</td>\n",
       "    </tr>\n",
       "    <tr>\n",
       "      <th>1759</th>\n",
       "      <td>46</td>\n",
       "      <td>23</td>\n",
       "      <td>2018-01-21 13:31:00</td>\n",
       "      <td>2018-01-21 13:31:00</td>\n",
       "      <td>0.0</td>\n",
       "    </tr>\n",
       "    <tr>\n",
       "      <th>1760</th>\n",
       "      <td>46</td>\n",
       "      <td>25</td>\n",
       "      <td>2018-01-27 12:17:00</td>\n",
       "      <td>2018-01-27 12:17:00</td>\n",
       "      <td>0.0</td>\n",
       "    </tr>\n",
       "    <tr>\n",
       "      <th>1761</th>\n",
       "      <td>46</td>\n",
       "      <td>27</td>\n",
       "      <td>2018-01-27 13:31:00</td>\n",
       "      <td>2018-01-27 13:31:00</td>\n",
       "      <td>0.0</td>\n",
       "    </tr>\n",
       "    <tr>\n",
       "      <th>1762</th>\n",
       "      <td>46</td>\n",
       "      <td>29</td>\n",
       "      <td>2018-01-28 12:17:00</td>\n",
       "      <td>2018-01-28 12:17:00</td>\n",
       "      <td>0.0</td>\n",
       "    </tr>\n",
       "    <tr>\n",
       "      <th>1763</th>\n",
       "      <td>46</td>\n",
       "      <td>31</td>\n",
       "      <td>2018-01-28 13:31:00</td>\n",
       "      <td>2018-01-28 13:31:00</td>\n",
       "      <td>0.0</td>\n",
       "    </tr>\n",
       "  </tbody>\n",
       "</table>\n",
       "<p>1764 rows × 5 columns</p>\n",
       "</div>"
      ],
      "text/plain": [
       "      id  numero_de_trajet            max_date            min_date  duree\n",
       "0     26                 1 2018-01-01 07:51:00 2018-01-01 07:50:00    1.0\n",
       "1     26                 3 2018-01-01 17:56:00 2018-01-01 17:55:00    1.0\n",
       "2     26                 5 2018-01-02 07:51:00 2018-01-02 07:50:00    1.0\n",
       "3     26                 7 2018-01-02 17:56:00 2018-01-02 17:55:00    1.0\n",
       "4     26                 9 2018-01-04 07:56:00 2018-01-04 07:54:00    2.0\n",
       "...   ..               ...                 ...                 ...    ...\n",
       "1759  46                23 2018-01-21 13:31:00 2018-01-21 13:31:00    0.0\n",
       "1760  46                25 2018-01-27 12:17:00 2018-01-27 12:17:00    0.0\n",
       "1761  46                27 2018-01-27 13:31:00 2018-01-27 13:31:00    0.0\n",
       "1762  46                29 2018-01-28 12:17:00 2018-01-28 12:17:00    0.0\n",
       "1763  46                31 2018-01-28 13:31:00 2018-01-28 13:31:00    0.0\n",
       "\n",
       "[1764 rows x 5 columns]"
      ]
     },
     "execution_count": 84,
     "metadata": {},
     "output_type": "execute_result"
    }
   ],
   "source": [
    "df_panda2"
   ]
  },
  {
   "cell_type": "markdown",
   "metadata": {},
   "source": [
    "1) A l'aide des librairies matplotlib et/ou seaborn, réalisez un graphique en barre montrant le temps total passé à vélo par chaque cycliste."
   ]
  },
  {
   "cell_type": "code",
   "execution_count": 85,
   "metadata": {},
   "outputs": [],
   "source": [
    "import seaborn as sns\n",
    "import matplotlib\n",
    "import matplotlib.pyplot as plt"
   ]
  },
  {
   "cell_type": "code",
   "execution_count": 86,
   "metadata": {},
   "outputs": [
    {
     "data": {
      "text/plain": [
       "<AxesSubplot: xlabel='id'>"
      ]
     },
     "execution_count": 86,
     "metadata": {},
     "output_type": "execute_result"
    },
    {
     "data": {
      "image/png": "[encoded data removed]",
      "text/plain": [
       "<Figure size 640x480 with 1 Axes>"
      ]
     },
     "metadata": {},
     "output_type": "display_data"
    }
   ],
   "source": [
    "pp = df_panda.sort_values(by=[\"id\"])\n",
    "pp.plot(x=\"id\", y=[\"duree\"], kind=\"bar\")"
   ]
  },
  {
   "cell_type": "code",
   "execution_count": 90,
   "metadata": {},
   "outputs": [
    {
     "data": {
      "image/png": "[encoded data removed]",
      "text/plain": [
       "<Figure size 3000x1000 with 1 Axes>"
      ]
     },
     "metadata": {},
     "output_type": "display_data"
    }
   ],
   "source": [
    "fig_dims = (30, 10)\n",
    "fig, ax = plt.subplots(figsize=fig_dims)\n",
    "\n",
    "sns.barplot(x = 'id', y = 'duree',ax=ax, data = df_panda.groupby([\"id\"], as_index=False).sum([\"duree\"]))\n",
    "\n",
    "ax.set(xlabel='Cycliste', ylabel='Durée (min)')\n",
    "\n",
    "plt.show()"
   ]
  },
  {
   "cell_type": "markdown",
   "metadata": {},
   "source": [
    "2) Réalisez un graphique en barre qui affiche le temps de chaque trajet d'un cycliste. Faites en sorte qu'on puisse choisir un id et afficher les trajets de cet id."
   ]
  },
  {
   "cell_type": "code",
   "execution_count": 89,
   "metadata": {},
   "outputs": [
    {
     "data": {
      "image/png": "[encoded data removed]",
      "text/plain": [
       "<Figure size 640x480 with 1 Axes>"
      ]
     },
     "metadata": {},
     "output_type": "display_data"
    }
   ],
   "source": [
    "def yolo(yes) :\n",
    "    bp2 = df_panda2[df_panda2[\"id\"] == yes].sort_values(by=[\"numero_de_trajet\"])\n",
    "    bp2.plot(x=\"numero_de_trajet\", y=\"duree\", kind=\"bar\")\n",
    "\n",
    "yolo(10)"
   ]
  },
  {
   "cell_type": "code",
   "execution_count": 94,
   "metadata": {},
   "outputs": [
    {
     "data": {
      "image/png": "[encoded data removed]",
      "text/plain": [
       "<Figure size 3000x1000 with 1 Axes>"
      ]
     },
     "metadata": {},
     "output_type": "display_data"
    }
   ],
   "source": [
    "def yolo2(yes) :\n",
    "    fig_dims = (30, 10)\n",
    "    fig, ax = plt.subplots(figsize=fig_dims)\n",
    "\n",
    "    sns.barplot(x = 'id', y = 'duree',ax=ax, data = df_panda2.loc[df_panda2['id'] == yes])\n",
    "\n",
    "    ax.set(xlabel='Cycliste', ylabel='Durée (min)')\n",
    "\n",
    "    plt.show()\n",
    "yolo2(12)"
   ]
  },
  {
   "cell_type": "markdown",
   "metadata": {},
   "source": [
    "## 6) Sauvegarde\n",
    "\n",
    "Sauvegardez votre dataset trajets au format csv dans le dossier data."
   ]
  },
  {
   "cell_type": "code",
   "execution_count": null,
   "metadata": {
    "scrolled": true
   },
   "outputs": [],
   "source": [
    "df_panda.to_csv(\"./data/result.csv\")"
   ]
  }
 ],
 "metadata": {
  "kernelspec": {
   "display_name": "Python 3 (ipykernel)",
   "language": "python",
   "name": "python3"
  },
  "language_info": {
   "codemirror_mode": {
    "name": "ipython",
    "version": 3
   },
   "file_extension": ".py",
   "mimetype": "text/x-python",
   "name": "python",
   "nbconvert_exporter": "python",
   "pygments_lexer": "ipython3",
   "version": "3.10.6"
  }
 },
 "nbformat": 4,
 "nbformat_minor": 4
}
