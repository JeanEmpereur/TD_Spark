{
 "cells": [
  {
   "cell_type": "markdown",
   "metadata": {},
   "source": [
    "# Etude de cas : analyse des fichiers de logs des cyclistes\n",
    "\n",
    "Objectif: A partir des fichiers contenu dans le dossier ./data/Cyclistes, calculer la durée de chacun des trajets effectués par chaque cycliste."
   ]
  },
  {
   "cell_type": "code",
   "execution_count": 1,
   "metadata": {},
   "outputs": [
    {
     "name": "stdout",
     "output_type": "stream",
     "text": [
      "Section Import complete\n"
     ]
    }
   ],
   "source": [
    "from pyspark.sql import SparkSession\n",
    "from pyspark.sql.types import *\n",
    "from pyspark.sql import functions as F\n",
    "from pyspark.sql.types import *\n",
    "from pyspark.sql.functions import *\n",
    "from pyspark.sql.window import Window\n",
    "from datetime import datetime\n",
    "\n",
    "print(\"Section Import complete\")"
   ]
  },
  {
   "cell_type": "markdown",
   "metadata": {},
   "source": [
    "## 1)  Charger la donnée\n",
    "Créez une seesion Spark et chargez les données Cyclistes."
   ]
  },
  {
   "cell_type": "code",
   "execution_count": 2,
   "metadata": {},
   "outputs": [
    {
     "name": "stdout",
     "output_type": "stream",
     "text": [
      "Session SPARK créé\n"
     ]
    }
   ],
   "source": [
    "spark = SparkSession.builder.getOrCreate()\n",
    "\n",
    "print(\"Session SPARK créé\")"
   ]
  },
  {
   "cell_type": "code",
   "execution_count": 3,
   "metadata": {},
   "outputs": [
    {
     "name": "stdout",
     "output_type": "stream",
     "text": [
      "root\n",
      " |-- id: integer (nullable = true)\n",
      " |-- timestamp: string (nullable = true)\n",
      " |-- sur_velo: boolean (nullable = true)\n",
      " |-- velo: string (nullable = true)\n",
      " |-- vitesse: double (nullable = true)\n",
      " |-- position: string (nullable = true)\n",
      " |-- destination_finale: string (nullable = true)\n",
      "\n"
     ]
    }
   ],
   "source": [
    "path = \"./data/Cyclistes/*.csv\" \n",
    "cyclistes = spark.read.format(\"csv\").option(\"header\", \"true\").load(path, inferSchema=True)\n",
    "cyclistes.printSchema()"
   ]
  },
  {
   "cell_type": "markdown",
   "metadata": {},
   "source": [
    "## 2) Vérifier le nombre de cyclistes\n",
    "\n",
    "Comptez le nombre d'id uniques."
   ]
  },
  {
   "cell_type": "code",
   "execution_count": 4,
   "metadata": {},
   "outputs": [],
   "source": [
    "nb_id = cyclistes.select(\"id\").count()\n",
    "nb_id_unique = cyclistes.select(\"id\").distinct().count()"
   ]
  },
  {
   "cell_type": "code",
   "execution_count": 5,
   "metadata": {},
   "outputs": [
    {
     "name": "stdout",
     "output_type": "stream",
     "text": [
      "Nombre total d'id de cycliste : 2232000\n",
      "Nombre total d'id unique : 50\n"
     ]
    }
   ],
   "source": [
    "print(\"Nombre total d'id de cycliste : \" + str(nb_id))\n",
    "print(\"Nombre total d'id unique : \" + str(nb_id_unique))"
   ]
  },
  {
   "cell_type": "markdown",
   "metadata": {},
   "source": [
    "## 3) Transformer la colonne timestamp\n",
    "\n",
    "Lorsqu'on vérifie le type de donnée de la colonne timestamp, on voit qu'on a une chaîne de caractères. Pour calculer une durée on voudrait transformer en date exploitable en tant que telle.\n",
    "A l'aide d'une fonction udf, créez une nouvelle colonne date qui contiendra le résultat de la transformation des chaînes de caractères de la colonne timestamp en véritables timestamps."
   ]
  },
  {
   "cell_type": "code",
   "execution_count": 6,
   "metadata": {},
   "outputs": [],
   "source": [
    "from pyspark.sql.types import *\n",
    "from pyspark.sql.functions import udf\n",
    "\n",
    "@udf(returnType = TimestampType())\n",
    "def validDate(colonne):\n",
    "    return datetime.strptime(colonne, '%Y-%m-%d %H:%M:%S')"
   ]
  },
  {
   "cell_type": "code",
   "execution_count": 7,
   "metadata": {},
   "outputs": [
    {
     "name": "stdout",
     "output_type": "stream",
     "text": [
      "+---+-------------------+--------+-----+--------------------+-------------------+------------------+-------------------+\n",
      "| id|          timestamp|sur_velo| velo|             vitesse|           position|destination_finale|               Date|\n",
      "+---+-------------------+--------+-----+--------------------+-------------------+------------------+-------------------+\n",
      "| 12|2018-01-01 00:01:00|   false|False|0.030000000000000006|(lon:2.07 lat:1.24)|             False|2018-01-01 00:01:00|\n",
      "| 12|2018-01-01 00:02:00|   false|False|0.030000000000000006|(lon:2.07 lat:1.24)|             False|2018-01-01 00:02:00|\n",
      "| 12|2018-01-01 00:03:00|   false|False|0.030000000000000006|(lon:2.07 lat:1.24)|             False|2018-01-01 00:03:00|\n",
      "| 12|2018-01-01 00:04:00|   false|False|0.030000000000000006|(lon:2.07 lat:1.24)|             False|2018-01-01 00:04:00|\n",
      "| 12|2018-01-01 00:05:00|   false|False|0.030000000000000006|(lon:2.07 lat:1.24)|             False|2018-01-01 00:05:00|\n",
      "| 12|2018-01-01 00:06:00|   false|False|0.030000000000000006|(lon:2.07 lat:1.24)|             False|2018-01-01 00:06:00|\n",
      "| 12|2018-01-01 00:07:00|   false|False|0.030000000000000006|(lon:2.07 lat:1.24)|             False|2018-01-01 00:07:00|\n",
      "| 12|2018-01-01 00:08:00|   false|False|0.030000000000000006|(lon:2.07 lat:1.24)|             False|2018-01-01 00:08:00|\n",
      "| 12|2018-01-01 00:09:00|   false|False|0.030000000000000006|(lon:2.07 lat:1.24)|             False|2018-01-01 00:09:00|\n",
      "| 12|2018-01-01 00:10:00|   false|False|0.030000000000000006|(lon:2.07 lat:1.24)|             False|2018-01-01 00:10:00|\n",
      "| 12|2018-01-01 00:11:00|   false|False|0.030000000000000006|(lon:2.07 lat:1.24)|             False|2018-01-01 00:11:00|\n",
      "| 12|2018-01-01 00:12:00|   false|False|0.030000000000000006|(lon:2.07 lat:1.24)|             False|2018-01-01 00:12:00|\n",
      "| 12|2018-01-01 00:13:00|   false|False|0.030000000000000006|(lon:2.07 lat:1.24)|             False|2018-01-01 00:13:00|\n",
      "| 12|2018-01-01 00:14:00|   false|False|0.030000000000000006|(lon:2.07 lat:1.24)|             False|2018-01-01 00:14:00|\n",
      "| 12|2018-01-01 00:15:00|   false|False|0.030000000000000006|(lon:2.07 lat:1.24)|             False|2018-01-01 00:15:00|\n",
      "| 12|2018-01-01 00:16:00|   false|False|0.030000000000000006|(lon:2.07 lat:1.24)|             False|2018-01-01 00:16:00|\n",
      "| 12|2018-01-01 00:17:00|   false|False|0.030000000000000006|(lon:2.07 lat:1.24)|             False|2018-01-01 00:17:00|\n",
      "| 12|2018-01-01 00:18:00|   false|False|0.030000000000000006|(lon:2.07 lat:1.24)|             False|2018-01-01 00:18:00|\n",
      "| 12|2018-01-01 00:19:00|   false|False|0.030000000000000006|(lon:2.07 lat:1.24)|             False|2018-01-01 00:19:00|\n",
      "| 12|2018-01-01 00:20:00|   false|False|0.030000000000000006|(lon:2.07 lat:1.24)|             False|2018-01-01 00:20:00|\n",
      "+---+-------------------+--------+-----+--------------------+-------------------+------------------+-------------------+\n",
      "only showing top 20 rows\n",
      "\n"
     ]
    }
   ],
   "source": [
    "cyclistes = cyclistes.withColumn(\"Date\", validDate(cyclistes['timestamp']))\n",
    "cyclistes.show()"
   ]
  },
  {
   "cell_type": "code",
   "execution_count": 8,
   "metadata": {},
   "outputs": [
    {
     "name": "stdout",
     "output_type": "stream",
     "text": [
      "root\n",
      " |-- id: integer (nullable = true)\n",
      " |-- timestamp: string (nullable = true)\n",
      " |-- sur_velo: boolean (nullable = true)\n",
      " |-- velo: string (nullable = true)\n",
      " |-- vitesse: double (nullable = true)\n",
      " |-- position: string (nullable = true)\n",
      " |-- destination_finale: string (nullable = true)\n",
      " |-- Date: timestamp (nullable = true)\n",
      "\n"
     ]
    }
   ],
   "source": [
    "cyclistes.printSchema()"
   ]
  },
  {
   "cell_type": "markdown",
   "metadata": {},
   "source": [
    "## 4) Durée des trajets par id.\n",
    "\n",
    "1) Trouvez les dates min/max par état de sur_velo, puis par id ET par état de sur_velo."
   ]
  },
  {
   "cell_type": "code",
   "execution_count": 9,
   "metadata": {},
   "outputs": [
    {
     "name": "stdout",
     "output_type": "stream",
     "text": [
      "+--------+-------------------+-------------------+\n",
      "|sur_velo|           Max_Date|           Min_Date|\n",
      "+--------+-------------------+-------------------+\n",
      "|    true|2018-01-31 21:32:00|2018-01-01 01:47:00|\n",
      "|   false|2018-02-01 00:00:00|2018-01-01 00:01:00|\n",
      "+--------+-------------------+-------------------+\n",
      "\n"
     ]
    }
   ],
   "source": [
    "cyclistes.groupBy(\"sur_velo\").agg(F.max(\"Date\").alias(\"Max_Date\"), F.min(\"Date\").alias(\"Min_Date\")).show()"
   ]
  },
  {
   "cell_type": "code",
   "execution_count": 10,
   "metadata": {},
   "outputs": [
    {
     "name": "stdout",
     "output_type": "stream",
     "text": [
      "+---+--------+-------------------+-------------------+\n",
      "| id|sur_velo|           Max_Date|           Min_Date|\n",
      "+---+--------+-------------------+-------------------+\n",
      "| 15|    true|2018-01-31 20:31:00|2018-01-01 10:19:00|\n",
      "| 12|    true|2018-01-31 16:49:00|2018-01-01 08:57:00|\n",
      "| 12|   false|2018-02-01 00:00:00|2018-01-01 00:01:00|\n",
      "| 43|    true|2018-01-30 18:53:00|2018-01-01 07:44:00|\n",
      "| 43|   false|2018-02-01 00:00:00|2018-01-01 00:01:00|\n",
      "| 15|   false|2018-02-01 00:00:00|2018-01-01 00:01:00|\n",
      "| 41|   false|2018-02-01 00:00:00|2018-01-01 00:01:00|\n",
      "| 29|   false|2018-02-01 00:00:00|2018-01-01 00:01:00|\n",
      "| 36|    true|2018-01-31 21:32:00|2018-01-01 08:47:00|\n",
      "| 41|    true|2018-01-31 20:35:00|2018-01-01 08:38:00|\n",
      "| 29|    true|2018-01-30 22:29:00|2018-01-01 05:24:00|\n",
      "| 36|   false|2018-02-01 00:00:00|2018-01-01 00:01:00|\n",
      "| 42|   false|2018-02-01 00:00:00|2018-01-01 00:01:00|\n",
      "| 10|    true|2018-01-30 17:32:00|2018-01-01 08:35:00|\n",
      "| 47|    true|2018-01-30 16:14:00|2018-01-01 04:09:00|\n",
      "| 47|   false|2018-02-01 00:00:00|2018-01-01 00:01:00|\n",
      "| 10|   false|2018-02-01 00:00:00|2018-01-01 00:01:00|\n",
      "| 42|    true|2018-01-31 19:25:00|2018-01-01 05:57:00|\n",
      "| 23|   false|2018-02-01 00:00:00|2018-01-01 00:01:00|\n",
      "| 24|    true|2018-01-31 19:16:00|2018-01-01 08:57:00|\n",
      "+---+--------+-------------------+-------------------+\n",
      "only showing top 20 rows\n",
      "\n"
     ]
    }
   ],
   "source": [
    "cyclistes.groupBy(\"id\",\"sur_velo\").agg(F.max(\"Date\").alias(\"Max_Date\"), F.min(\"Date\").alias(\"Min_Date\")).show()"
   ]
  },
  {
   "cell_type": "markdown",
   "metadata": {},
   "source": [
    "2) Le résultat n'est pas trés pertinent, il faudrait plutôt le début et la fin de chaque trajet par id. Pour cela, il faudrait détecter les changements d'état \"sur_vélo\".\n",
    "\n",
    "Créez une fonction python (voir fonction udf) qui permet de detecter ces changements d'état.\n",
    "Utilisez la classe Window() et la fonction F.lag() avec votre fonction udf pour créer une nouvelle colonne que vous appellerez changement, contenant un 0 si l'état précedent de sur_velo est le même et un 1 si l'état vient de changer pour chaque id."
   ]
  },
  {
   "cell_type": "code",
   "execution_count": 11,
   "metadata": {},
   "outputs": [],
   "source": [
    "from pyspark.sql.types import *\n",
    "from pyspark.sql.functions import udf\n",
    "\n",
    "@udf(returnType = IntegerType())\n",
    "def findChg(last,current):\n",
    "    if(last != None and last != current):\n",
    "        return 1\n",
    "    elif (last == None):\n",
    "        return 1\n",
    "    else :\n",
    "        return 0"
   ]
  },
  {
   "cell_type": "code",
   "execution_count": 12,
   "metadata": {},
   "outputs": [
    {
     "name": "stdout",
     "output_type": "stream",
     "text": [
      "+---+-------------------+--------+-----+------------------+-------------------+------------------+-------------------+----------+\n",
      "| id|          timestamp|sur_velo| velo|           vitesse|           position|destination_finale|               Date|Changement|\n",
      "+---+-------------------+--------+-----+------------------+-------------------+------------------+-------------------+----------+\n",
      "| 28|2018-01-01 00:01:00|   false|False|1.0045224447091772|(lon:2.92 lat:2.14)|             False|2018-01-01 00:01:00|         1|\n",
      "| 28|2018-01-01 00:02:00|   false|False|1.0045224447091772|(lon:2.92 lat:2.14)|             False|2018-01-01 00:02:00|         0|\n",
      "| 28|2018-01-01 00:03:00|   false|False|1.0045224447091772|(lon:2.92 lat:2.14)|             False|2018-01-01 00:03:00|         0|\n",
      "| 28|2018-01-01 00:04:00|   false|False|1.0045224447091772|(lon:2.92 lat:2.14)|             False|2018-01-01 00:04:00|         0|\n",
      "| 28|2018-01-01 00:05:00|   false|False|1.0045224447091772|(lon:2.92 lat:2.14)|             False|2018-01-01 00:05:00|         0|\n",
      "| 28|2018-01-01 00:06:00|   false|False|1.0045224447091772|(lon:2.92 lat:2.14)|             False|2018-01-01 00:06:00|         0|\n",
      "| 28|2018-01-01 00:07:00|   false|False|1.0045224447091772|(lon:2.92 lat:2.14)|             False|2018-01-01 00:07:00|         0|\n",
      "| 28|2018-01-01 00:08:00|   false|False|1.0045224447091772|(lon:2.92 lat:2.14)|             False|2018-01-01 00:08:00|         0|\n",
      "| 28|2018-01-01 00:09:00|   false|False|1.0045224447091772|(lon:2.92 lat:2.14)|             False|2018-01-01 00:09:00|         0|\n",
      "| 28|2018-01-01 00:10:00|   false|False|1.0045224447091772|(lon:2.92 lat:2.14)|             False|2018-01-01 00:10:00|         0|\n",
      "| 28|2018-01-01 00:11:00|   false|False|1.0045224447091772|(lon:2.92 lat:2.14)|             False|2018-01-01 00:11:00|         0|\n",
      "| 28|2018-01-01 00:12:00|   false|False|1.0045224447091772|(lon:2.92 lat:2.14)|             False|2018-01-01 00:12:00|         0|\n",
      "| 28|2018-01-01 00:13:00|   false|False|1.0045224447091772|(lon:2.92 lat:2.14)|             False|2018-01-01 00:13:00|         0|\n",
      "| 28|2018-01-01 00:14:00|   false|False|1.0045224447091772|(lon:2.92 lat:2.14)|             False|2018-01-01 00:14:00|         0|\n",
      "| 28|2018-01-01 00:15:00|   false|False|1.0045224447091772|(lon:2.92 lat:2.14)|             False|2018-01-01 00:15:00|         0|\n",
      "| 28|2018-01-01 00:16:00|   false|False|1.0045224447091772|(lon:2.92 lat:2.14)|             False|2018-01-01 00:16:00|         0|\n",
      "| 28|2018-01-01 00:17:00|   false|False|1.0045224447091772|(lon:2.92 lat:2.14)|             False|2018-01-01 00:17:00|         0|\n",
      "| 28|2018-01-01 00:18:00|   false|False|1.0045224447091772|(lon:2.92 lat:2.14)|             False|2018-01-01 00:18:00|         0|\n",
      "| 28|2018-01-01 00:19:00|   false|False|1.0045224447091772|(lon:2.92 lat:2.14)|             False|2018-01-01 00:19:00|         0|\n",
      "| 28|2018-01-01 00:20:00|   false|False|1.0045224447091772|(lon:2.92 lat:2.14)|             False|2018-01-01 00:20:00|         0|\n",
      "+---+-------------------+--------+-----+------------------+-------------------+------------------+-------------------+----------+\n",
      "only showing top 20 rows\n",
      "\n"
     ]
    }
   ],
   "source": [
    "cyclistes = cyclistes.withColumn(\"Changement\", findChg(F.lag(cyclistes[\"sur_velo\"]).over(Window.partitionBy(\"id\").orderBy(\"id\",\"Date\")), F.lag(cyclistes[\"sur_velo\"],0).over(Window.partitionBy(\"id\").orderBy(\"id\",\"Date\"))))\n",
    "cyclistes.show()"
   ]
  },
  {
   "cell_type": "markdown",
   "metadata": {},
   "source": [
    "3) Grâce à cette nouvelle colonne changement, trouvez un moyen qui permettra de numeroter les trajets pour chaque id et stockez les résulats dans une nouvelle colonne appelée numero_de_trajet."
   ]
  },
  {
   "cell_type": "code",
   "execution_count": 13,
   "metadata": {},
   "outputs": [],
   "source": [
    "from pyspark.sql.types import *\n",
    "from pyspark.sql.functions import udf\n",
    "\n",
    "cpt = 0\n",
    "\n",
    "@udf(returnType = IntegerType())\n",
    "def idTravelChg(last_id, current_id,sur_velo,chg):\n",
    "    global cpt\n",
    "    \n",
    "    if(last_id == None):\n",
    "        cpt = 0\n",
    "    elif(int(last_id) != int(current_id)):\n",
    "        cpt = 0\n",
    "    \n",
    "    if(chg == 1 and sur_velo == True):\n",
    "        cpt = cpt + 1\n",
    "        \n",
    "    return cpt"
   ]
  },
  {
   "cell_type": "code",
   "execution_count": 14,
   "metadata": {},
   "outputs": [
    {
     "name": "stdout",
     "output_type": "stream",
     "text": [
      "+---+-------------------+--------+-----+------------------+-------------------+------------------+-------------------+----------+----------------+\n",
      "| id|          timestamp|sur_velo| velo|           vitesse|           position|destination_finale|               Date|Changement|numero_de_trajet|\n",
      "+---+-------------------+--------+-----+------------------+-------------------+------------------+-------------------+----------+----------------+\n",
      "| 28|2018-01-01 00:01:00|   false|False|1.0045224447091772|(lon:2.92 lat:2.14)|             False|2018-01-01 00:01:00|         1|               0|\n",
      "| 28|2018-01-01 00:02:00|   false|False|1.0045224447091772|(lon:2.92 lat:2.14)|             False|2018-01-01 00:02:00|         0|               0|\n",
      "| 28|2018-01-01 00:03:00|   false|False|1.0045224447091772|(lon:2.92 lat:2.14)|             False|2018-01-01 00:03:00|         0|               0|\n",
      "| 28|2018-01-01 00:04:00|   false|False|1.0045224447091772|(lon:2.92 lat:2.14)|             False|2018-01-01 00:04:00|         0|               0|\n",
      "| 28|2018-01-01 00:05:00|   false|False|1.0045224447091772|(lon:2.92 lat:2.14)|             False|2018-01-01 00:05:00|         0|               0|\n",
      "| 28|2018-01-01 00:06:00|   false|False|1.0045224447091772|(lon:2.92 lat:2.14)|             False|2018-01-01 00:06:00|         0|               0|\n",
      "| 28|2018-01-01 00:07:00|   false|False|1.0045224447091772|(lon:2.92 lat:2.14)|             False|2018-01-01 00:07:00|         0|               0|\n",
      "| 28|2018-01-01 00:08:00|   false|False|1.0045224447091772|(lon:2.92 lat:2.14)|             False|2018-01-01 00:08:00|         0|               0|\n",
      "| 28|2018-01-01 00:09:00|   false|False|1.0045224447091772|(lon:2.92 lat:2.14)|             False|2018-01-01 00:09:00|         0|               0|\n",
      "| 28|2018-01-01 00:10:00|   false|False|1.0045224447091772|(lon:2.92 lat:2.14)|             False|2018-01-01 00:10:00|         0|               0|\n",
      "| 28|2018-01-01 00:11:00|   false|False|1.0045224447091772|(lon:2.92 lat:2.14)|             False|2018-01-01 00:11:00|         0|               0|\n",
      "| 28|2018-01-01 00:12:00|   false|False|1.0045224447091772|(lon:2.92 lat:2.14)|             False|2018-01-01 00:12:00|         0|               0|\n",
      "| 28|2018-01-01 00:13:00|   false|False|1.0045224447091772|(lon:2.92 lat:2.14)|             False|2018-01-01 00:13:00|         0|               0|\n",
      "| 28|2018-01-01 00:14:00|   false|False|1.0045224447091772|(lon:2.92 lat:2.14)|             False|2018-01-01 00:14:00|         0|               0|\n",
      "| 28|2018-01-01 00:15:00|   false|False|1.0045224447091772|(lon:2.92 lat:2.14)|             False|2018-01-01 00:15:00|         0|               0|\n",
      "| 28|2018-01-01 00:16:00|   false|False|1.0045224447091772|(lon:2.92 lat:2.14)|             False|2018-01-01 00:16:00|         0|               0|\n",
      "| 28|2018-01-01 00:17:00|   false|False|1.0045224447091772|(lon:2.92 lat:2.14)|             False|2018-01-01 00:17:00|         0|               0|\n",
      "| 28|2018-01-01 00:18:00|   false|False|1.0045224447091772|(lon:2.92 lat:2.14)|             False|2018-01-01 00:18:00|         0|               0|\n",
      "| 28|2018-01-01 00:19:00|   false|False|1.0045224447091772|(lon:2.92 lat:2.14)|             False|2018-01-01 00:19:00|         0|               0|\n",
      "| 28|2018-01-01 00:20:00|   false|False|1.0045224447091772|(lon:2.92 lat:2.14)|             False|2018-01-01 00:20:00|         0|               0|\n",
      "+---+-------------------+--------+-----+------------------+-------------------+------------------+-------------------+----------+----------------+\n",
      "only showing top 20 rows\n",
      "\n"
     ]
    }
   ],
   "source": [
    "windowSpec = Window.orderBy(\"id\",\"Date\").partitionBy(\"id\")\n",
    "\n",
    "cyclistes = cyclistes.withColumn(\"numero_de_trajet\", idTravelChg(\\\n",
    "F.lag(col(\"id\")).over(windowSpec),\\\n",
    "F.lag(col(\"id\"),0).over(windowSpec),\\\n",
    "F.lag(cyclistes[\"sur_velo\"],0).over(windowSpec),\\\n",
    "F.lag(cyclistes[\"Changement\"],0).over(windowSpec),\\\n",
    "))\n",
    "\n",
    "cyclistes.show()"
   ]
  },
  {
   "cell_type": "code",
   "execution_count": 15,
   "metadata": {},
   "outputs": [
    {
     "name": "stdout",
     "output_type": "stream",
     "text": [
      "+---+-------------------+--------+--------------------+--------------------+-------------------+-------------------+-------------------+----------+----------------+\n",
      "| id|          timestamp|sur_velo|                velo|             vitesse|           position| destination_finale|               Date|Changement|numero_de_trajet|\n",
      "+---+-------------------+--------+--------------------+--------------------+-------------------+-------------------+-------------------+----------+----------------+\n",
      "|  2|2018-01-01 12:33:00|    true|velo_velo_162_per...|   5.313536596841792|(lon:3.00 lat:3.00)|(lon:2.34 lat:0.97)|2018-01-01 12:33:00|         1|               1|\n",
      "|  2|2018-01-01 12:37:00|   false|               False|   2.344207322136085|(lon:2.00 lat:2.00)|(lon:2.34 lat:0.97)|2018-01-01 12:37:00|         1|               1|\n",
      "|  2|2018-01-01 20:01:00|   false|               False|   2.344207322136085|(lon:3.00 lat:3.00)|(lon:2.62 lat:2.59)|2018-01-01 20:01:00|         1|               2|\n",
      "|  2|2018-01-01 19:59:00|    true|velo_velo_79_perf...|   5.313536596841792|(lon:2.00 lat:1.00)|(lon:2.62 lat:2.59)|2018-01-01 19:59:00|         1|               2|\n",
      "|  2|2018-01-02 12:35:00|   false|               False|   2.344207322136085|(lon:2.00 lat:1.00)|(lon:2.34 lat:0.97)|2018-01-02 12:35:00|         1|               3|\n",
      "|  2|2018-01-02 12:33:00|    true|velo_velo_153_per...|   5.313536596841792|(lon:3.00 lat:3.00)|(lon:2.34 lat:0.97)|2018-01-02 12:33:00|         1|               3|\n",
      "|  2|2018-01-02 19:59:00|    true|velo_velo_153_per...|   5.313536596841792|(lon:2.00 lat:1.00)|(lon:2.62 lat:2.59)|2018-01-02 19:59:00|         1|               4|\n",
      "|  2|2018-01-02 20:01:00|   false|               False|   2.344207322136085|(lon:3.00 lat:3.00)|(lon:2.62 lat:2.59)|2018-01-02 20:01:00|         1|               4|\n",
      "|  2|2018-01-03 12:35:00|   false|               False|   2.344207322136085|(lon:2.00 lat:1.00)|(lon:2.34 lat:0.97)|2018-01-03 12:35:00|         1|               5|\n",
      "|  2|2018-01-03 12:33:00|    true|velo_velo_165_per...|   5.313536596841792|(lon:3.00 lat:3.00)|(lon:2.34 lat:0.97)|2018-01-03 12:33:00|         1|               5|\n",
      "|  2|2018-01-03 20:01:00|   false|               False|   2.344207322136085|(lon:3.00 lat:3.00)|(lon:2.62 lat:2.59)|2018-01-03 20:01:00|         1|               6|\n",
      "|  2|2018-01-03 19:59:00|    true|velo_velo_143_per...|   5.313536596841792|(lon:2.00 lat:1.00)|(lon:2.62 lat:2.59)|2018-01-03 19:59:00|         1|               6|\n",
      "|  2|2018-01-04 12:33:00|    true|velo_velo_156_per...|   5.313536596841792|(lon:3.00 lat:3.00)|(lon:2.34 lat:0.97)|2018-01-04 12:33:00|         1|               7|\n",
      "|  2|2018-01-04 12:35:00|   false|               False|   2.344207322136085|(lon:2.00 lat:1.00)|(lon:2.34 lat:0.97)|2018-01-04 12:35:00|         1|               7|\n",
      "|  2|2018-01-04 20:01:00|   false|               False|   2.344207322136085|(lon:3.00 lat:3.00)|(lon:2.62 lat:2.59)|2018-01-04 20:01:00|         1|               8|\n",
      "|  2|2018-01-04 19:59:00|    true|velo_velo_156_per...|   5.313536596841792|(lon:2.00 lat:1.00)|(lon:2.62 lat:2.59)|2018-01-04 19:59:00|         1|               8|\n",
      "|  2|2018-01-05 12:33:00|    true|velo_velo_159_per...|   5.313536596841792|(lon:3.00 lat:3.00)|(lon:2.34 lat:0.97)|2018-01-05 12:33:00|         1|               9|\n",
      "|  2|2018-01-05 12:35:00|   false|               False|   2.344207322136085|(lon:2.00 lat:1.00)|(lon:2.34 lat:0.97)|2018-01-05 12:35:00|         1|               9|\n",
      "|  2|2018-01-05 20:01:00|   false|               False|   2.344207322136085|(lon:3.00 lat:3.00)|(lon:2.62 lat:2.59)|2018-01-05 20:01:00|         1|              10|\n",
      "|  2|2018-01-05 19:59:00|    true|velo_velo_159_per...|   5.313536596841792|(lon:2.00 lat:1.00)|(lon:2.62 lat:2.59)|2018-01-05 19:59:00|         1|              10|\n",
      "|  2|2018-01-08 12:35:00|   false|               False|   2.344207322136085|(lon:2.00 lat:1.00)|(lon:2.34 lat:0.97)|2018-01-08 12:35:00|         1|              11|\n",
      "|  2|2018-01-08 12:33:00|    true|velo_velo_159_per...|   5.313536596841792|(lon:3.00 lat:3.00)|(lon:2.34 lat:0.97)|2018-01-08 12:33:00|         1|              11|\n",
      "|  2|2018-01-08 20:01:00|   false|               False|   2.344207322136085|(lon:3.00 lat:3.00)|(lon:2.62 lat:2.59)|2018-01-08 20:01:00|         1|              12|\n",
      "|  2|2018-01-08 19:59:00|    true|velo_velo_183_per...|   5.313536596841792|(lon:2.00 lat:1.00)|(lon:2.62 lat:2.59)|2018-01-08 19:59:00|         1|              12|\n",
      "|  2|2018-01-09 12:35:00|   false|               False|   2.344207322136085|(lon:2.00 lat:1.00)|(lon:2.34 lat:0.97)|2018-01-09 12:35:00|         1|              13|\n",
      "|  2|2018-01-09 12:33:00|    true|velo_velo_165_per...|   5.313536596841792|(lon:3.00 lat:3.00)|(lon:2.34 lat:0.97)|2018-01-09 12:33:00|         1|              13|\n",
      "|  2|2018-01-09 20:01:00|   false|               False|   2.344207322136085|(lon:3.00 lat:3.00)|(lon:2.62 lat:2.59)|2018-01-09 20:01:00|         1|              14|\n",
      "|  2|2018-01-09 19:59:00|    true|velo_velo_21_perf...|   5.313536596841792|(lon:2.00 lat:1.00)|(lon:2.62 lat:2.59)|2018-01-09 19:59:00|         1|              14|\n",
      "|  2|2018-01-10 12:35:00|   false|               False|   2.344207322136085|(lon:2.00 lat:1.00)|(lon:2.34 lat:0.97)|2018-01-10 12:35:00|         1|              15|\n",
      "|  2|2018-01-10 12:33:00|    true|velo_velo_121_per...|   5.313536596841792|(lon:3.00 lat:3.00)|(lon:2.34 lat:0.97)|2018-01-10 12:33:00|         1|              15|\n",
      "|  2|2018-01-10 20:01:00|   false|               False|   2.344207322136085|(lon:3.00 lat:3.00)|(lon:2.62 lat:2.59)|2018-01-10 20:01:00|         1|              16|\n",
      "|  2|2018-01-10 19:59:00|    true|velo_velo_122_per...|   5.313536596841792|(lon:2.00 lat:1.00)|(lon:2.62 lat:2.59)|2018-01-10 19:59:00|         1|              16|\n",
      "|  2|2018-01-11 12:33:00|    true|velo_velo_177_per...|   5.313536596841792|(lon:3.00 lat:3.00)|(lon:2.34 lat:0.97)|2018-01-11 12:33:00|         1|              17|\n",
      "|  2|2018-01-11 12:37:00|   false|               False|   2.344207322136085|(lon:2.00 lat:2.00)|(lon:2.34 lat:0.97)|2018-01-11 12:37:00|         1|              17|\n",
      "|  2|2018-01-11 20:03:00|   false|               False|   2.344207322136085|(lon:3.00 lat:3.00)|(lon:2.62 lat:2.59)|2018-01-11 20:03:00|         1|              18|\n",
      "|  2|2018-01-11 20:01:00|    true|velo_velo_192_per...|   5.709811493567224|(lon:2.00 lat:2.00)|(lon:2.62 lat:2.59)|2018-01-11 20:01:00|         1|              18|\n",
      "|  2|2018-01-12 12:33:00|    true|velo_velo_34_perf...|   5.313536596841792|(lon:3.00 lat:3.00)|(lon:2.34 lat:0.97)|2018-01-12 12:33:00|         1|              19|\n",
      "|  2|2018-01-12 12:35:00|   false|               False|   2.344207322136085|(lon:2.00 lat:1.00)|(lon:2.34 lat:0.97)|2018-01-12 12:35:00|         1|              19|\n",
      "|  2|2018-01-12 20:01:00|   false|               False|   2.344207322136085|(lon:3.00 lat:3.00)|(lon:2.62 lat:2.59)|2018-01-12 20:01:00|         1|              20|\n",
      "|  2|2018-01-12 19:59:00|    true|velo_velo_199_per...|   5.308602556807094|(lon:2.00 lat:1.00)|(lon:2.62 lat:2.59)|2018-01-12 19:59:00|         1|              20|\n",
      "|  2|2018-01-15 12:33:00|    true|velo_velo_52_perf...|   5.313536596841792|(lon:3.00 lat:3.00)|(lon:2.34 lat:0.97)|2018-01-15 12:33:00|         1|              21|\n",
      "|  2|2018-01-15 12:37:00|   false|               False|   2.344207322136085|(lon:2.00 lat:2.00)|(lon:2.34 lat:0.97)|2018-01-15 12:37:00|         1|              21|\n",
      "|  2|2018-01-15 20:05:00|   false|               False|   2.344207322136085|(lon:3.00 lat:3.00)|(lon:2.62 lat:2.59)|2018-01-15 20:05:00|         1|              22|\n",
      "|  2|2018-01-15 20:03:00|    true|velo_velo_57_perf...|   5.698476537089284|(lon:2.00 lat:3.00)|(lon:2.62 lat:2.59)|2018-01-15 20:03:00|         1|              22|\n",
      "|  2|2018-01-16 12:37:00|   false|               False|   2.344207322136085|(lon:2.00 lat:2.00)|(lon:2.34 lat:0.97)|2018-01-16 12:37:00|         1|              23|\n",
      "|  2|2018-01-16 12:33:00|    true|velo_velo_143_per...|   5.313536596841792|(lon:3.00 lat:3.00)|(lon:2.34 lat:0.97)|2018-01-16 12:33:00|         1|              23|\n",
      "|  2|2018-01-16 20:01:00|    true|velo_velo_59_perf...|   5.896616717346101|(lon:2.00 lat:2.00)|(lon:2.62 lat:2.59)|2018-01-16 20:01:00|         1|              24|\n",
      "|  2|2018-01-16 20:03:00|   false|               False|   2.344207322136085|(lon:3.00 lat:3.00)|(lon:2.62 lat:2.59)|2018-01-16 20:03:00|         1|              24|\n",
      "|  2|2018-01-17 12:33:00|    true|velo_velo_113_per...|   5.313536596841792|(lon:3.00 lat:3.00)|(lon:2.34 lat:0.97)|2018-01-17 12:33:00|         1|              25|\n",
      "|  2|2018-01-17 12:35:00|   false|               False|   2.344207322136085|(lon:2.00 lat:1.00)|(lon:2.34 lat:0.97)|2018-01-17 12:35:00|         1|              25|\n",
      "|  2|2018-01-17 20:03:00|   false|               False|   2.344207322136085|(lon:3.00 lat:3.00)|(lon:2.62 lat:2.59)|2018-01-17 20:03:00|         1|              26|\n",
      "|  2|2018-01-17 20:01:00|    true|velo_velo_137_per...|   5.313536596841792|(lon:2.00 lat:2.00)|(lon:2.62 lat:2.59)|2018-01-17 20:01:00|         1|              26|\n",
      "|  2|2018-01-18 12:39:00|   false|               False|   2.344207322136085|(lon:2.00 lat:3.00)|(lon:2.34 lat:0.97)|2018-01-18 12:39:00|         1|              27|\n",
      "|  2|2018-01-18 12:33:00|    true|velo_velo_29_perf...|   5.313536596841792|(lon:3.00 lat:3.00)|(lon:2.34 lat:0.97)|2018-01-18 12:33:00|         1|              27|\n",
      "|  2|2018-01-19 12:37:00|   false|               False|   2.344207322136085|(lon:2.00 lat:2.00)|(lon:2.34 lat:0.97)|2018-01-19 12:37:00|         1|              28|\n",
      "|  2|2018-01-19 12:33:00|    true|velo_velo_171_per...|   5.313536596841792|(lon:3.00 lat:3.00)|(lon:2.34 lat:0.97)|2018-01-19 12:33:00|         1|              28|\n",
      "|  2|2018-01-19 20:01:00|    true|velo_velo_69_perf...|   5.313536596841792|(lon:2.00 lat:2.00)|(lon:2.62 lat:2.59)|2018-01-19 20:01:00|         1|              29|\n",
      "|  2|2018-01-19 20:03:00|   false|               False|   2.344207322136085|(lon:3.00 lat:3.00)|(lon:2.62 lat:2.59)|2018-01-19 20:03:00|         1|              29|\n",
      "|  2|2018-01-22 12:37:00|   false|               False|   2.344207322136085|(lon:2.00 lat:2.00)|(lon:2.34 lat:0.97)|2018-01-22 12:37:00|         1|              30|\n",
      "|  2|2018-01-22 12:33:00|    true|velo_velo_186_per...|   5.313536596841792|(lon:3.00 lat:3.00)|(lon:2.34 lat:0.97)|2018-01-22 12:33:00|         1|              30|\n",
      "|  2|2018-01-23 12:33:00|    true|velo_velo_65_perf...|   5.313536596841792|(lon:3.00 lat:3.00)|(lon:2.34 lat:0.97)|2018-01-23 12:33:00|         1|              31|\n",
      "|  2|2018-01-23 12:39:00|   false|               False|   2.344207322136085|(lon:2.00 lat:3.00)|(lon:2.34 lat:0.97)|2018-01-23 12:39:00|         1|              31|\n",
      "|  2|2018-01-23 20:01:00|    true|velo_velo_24_perf...|   5.313536596841792|(lon:2.00 lat:2.00)|(lon:2.62 lat:2.59)|2018-01-23 20:01:00|         1|              32|\n",
      "|  2|2018-01-23 20:03:00|   false|               False|   2.344207322136085|(lon:3.00 lat:3.00)|(lon:2.62 lat:2.59)|2018-01-23 20:03:00|         1|              32|\n",
      "|  2|2018-01-24 12:33:00|    true|velo_velo_47_perf...|   6.004652246819875|(lon:3.00 lat:3.00)|(lon:2.34 lat:0.97)|2018-01-24 12:33:00|         1|              33|\n",
      "|  2|2018-01-24 12:37:00|   false|               False|   2.344207322136085|(lon:2.00 lat:2.00)|(lon:2.34 lat:0.97)|2018-01-24 12:37:00|         1|              33|\n",
      "|  2|2018-01-24 20:01:00|    true|velo_velo_184_per...|   4.728784273696336|(lon:2.00 lat:2.00)|(lon:2.62 lat:2.59)|2018-01-24 20:01:00|         1|              34|\n",
      "|  2|2018-01-24 20:03:00|   false|               False|   2.344207322136085|(lon:3.00 lat:3.00)|(lon:2.62 lat:2.59)|2018-01-24 20:03:00|         1|              34|\n",
      "|  2|2018-01-25 12:39:00|   false|               False|   2.344207322136085|(lon:2.00 lat:3.00)|(lon:2.34 lat:0.97)|2018-01-25 12:39:00|         1|              35|\n",
      "|  2|2018-01-25 12:33:00|    true|velo_velo_60_perf...|   5.313536596841792|(lon:3.00 lat:3.00)|(lon:2.34 lat:0.97)|2018-01-25 12:33:00|         1|              35|\n",
      "|  2|2018-01-25 20:05:00|   false|               False|   2.344207322136085|(lon:3.00 lat:3.00)|(lon:2.62 lat:2.59)|2018-01-25 20:05:00|         1|              36|\n",
      "|  2|2018-01-25 20:03:00|    true|velo_velo_76_perf...|   5.313536596841792|(lon:2.00 lat:3.00)|(lon:2.62 lat:2.59)|2018-01-25 20:03:00|         1|              36|\n",
      "|  2|2018-01-26 12:39:00|   false|               False|   2.344207322136085|(lon:2.00 lat:3.00)|(lon:2.34 lat:0.97)|2018-01-26 12:39:00|         1|              37|\n",
      "|  2|2018-01-26 12:33:00|    true|velo_velo_56_perf...|   5.313536596841792|(lon:3.00 lat:3.00)|(lon:2.34 lat:0.97)|2018-01-26 12:33:00|         1|              37|\n",
      "|  2|2018-01-29 12:39:00|   false|               False|   2.344207322136085|(lon:2.00 lat:3.00)|(lon:2.34 lat:0.97)|2018-01-29 12:39:00|         1|              38|\n",
      "|  2|2018-01-29 12:33:00|    true|velo_velo_141_per...|   5.313536596841792|(lon:3.00 lat:3.00)|(lon:2.34 lat:0.97)|2018-01-29 12:33:00|         1|              38|\n",
      "|  2|2018-01-29 20:01:00|    true|velo_velo_189_per...|   5.313536596841792|(lon:2.00 lat:2.00)|(lon:2.62 lat:2.59)|2018-01-29 20:01:00|         1|              39|\n",
      "|  2|2018-01-29 20:03:00|   false|               False|   2.344207322136085|(lon:3.00 lat:3.00)|(lon:2.62 lat:2.59)|2018-01-29 20:03:00|         1|              39|\n",
      "|  2|2018-01-30 12:33:00|    true|velo_velo_117_per...|   5.313536596841792|(lon:3.00 lat:3.00)|(lon:2.34 lat:0.97)|2018-01-30 12:33:00|         1|              40|\n",
      "|  2|2018-01-30 12:37:00|   false|               False|   2.344207322136085|(lon:2.00 lat:2.00)|(lon:2.34 lat:0.97)|2018-01-30 12:37:00|         1|              40|\n",
      "|  2|2018-01-30 20:05:00|   false|               False|   2.344207322136085|(lon:3.00 lat:3.00)|(lon:2.62 lat:2.59)|2018-01-30 20:05:00|         1|              41|\n",
      "|  2|2018-01-30 20:03:00|    true|velo_velo_48_perf...|   5.899649557265412|(lon:2.00 lat:3.00)|(lon:2.62 lat:2.59)|2018-01-30 20:03:00|         1|              41|\n",
      "|  2|2018-01-31 12:33:00|    true|velo_velo_117_per...|   5.313536596841792|(lon:3.00 lat:3.00)|(lon:2.34 lat:0.97)|2018-01-31 12:33:00|         1|              42|\n",
      "|  2|2018-01-31 12:39:00|   false|               False|   2.344207322136085|(lon:2.00 lat:3.00)|(lon:2.34 lat:0.97)|2018-01-31 12:39:00|         1|              42|\n",
      "|  2|2018-01-31 20:01:00|    true|velo_velo_154_per...|   5.313536596841792|(lon:2.00 lat:2.00)|(lon:2.62 lat:2.59)|2018-01-31 20:01:00|         1|              43|\n",
      "|  2|2018-01-31 20:03:00|   false|               False|   2.344207322136085|(lon:3.00 lat:3.00)|(lon:2.62 lat:2.59)|2018-01-31 20:03:00|         1|              43|\n",
      "|  3|2018-01-06 09:01:00|   false|               False|                0.02|(lon:0.00 lat:1.00)|(lon:0.20 lat:0.21)|2018-01-06 09:01:00|         1|               1|\n",
      "|  3|2018-01-06 06:24:00|    true|velo_velo_171_per...|              0.0425|(lon:4.00 lat:4.00)|(lon:0.20 lat:0.21)|2018-01-06 06:24:00|         1|               1|\n",
      "|  3|2018-01-06 19:08:00|   false|               False|                0.02|(lon:4.00 lat:4.00)|(lon:3.79 lat:3.81)|2018-01-06 19:08:00|         1|               2|\n",
      "|  3|2018-01-06 17:04:00|    true|velo_velo_122_per...|              0.0425|(lon:0.00 lat:1.00)|(lon:3.79 lat:3.81)|2018-01-06 17:04:00|         1|               2|\n",
      "|  3|2018-01-07 08:41:00|   false|               False|                0.02|(lon:0.00 lat:1.00)|(lon:0.20 lat:0.21)|2018-01-07 08:41:00|         1|               3|\n",
      "|  3|2018-01-07 06:02:00|    true|velo_velo_205_per...| 0.04179474059426267|(lon:4.00 lat:4.00)|(lon:0.20 lat:0.21)|2018-01-07 06:02:00|         1|               3|\n",
      "|  3|2018-01-07 17:04:00|    true|velo_velo_184_per...|  0.0418591954262036|(lon:0.00 lat:1.00)|(lon:3.79 lat:3.81)|2018-01-07 17:04:00|         1|               4|\n",
      "|  3|2018-01-07 19:04:00|   false|               False|                0.02|(lon:4.00 lat:4.00)|(lon:3.79 lat:3.81)|2018-01-07 19:04:00|         1|               4|\n",
      "|  3|2018-01-13 08:39:00|   false|               False|                0.02|(lon:0.00 lat:1.00)|(lon:0.20 lat:0.21)|2018-01-13 08:39:00|         1|               5|\n",
      "|  3|2018-01-13 06:02:00|    true|velo_velo_93_perf...|              0.0425|(lon:4.00 lat:4.00)|(lon:0.20 lat:0.21)|2018-01-13 06:02:00|         1|               5|\n",
      "|  3|2018-01-13 17:04:00|    true|velo_velo_91_perf...|              0.0425|(lon:0.00 lat:1.00)|(lon:3.79 lat:3.81)|2018-01-13 17:04:00|         1|               6|\n",
      "|  3|2018-01-14 07:03:00|   false|               False|                0.02|(lon:4.00 lat:4.00)|(lon:3.79 lat:3.81)|2018-01-14 07:03:00|         1|               6|\n",
      "|  3|2018-01-14 08:02:00|    true|velo_velo_126_per...|              0.0425|(lon:4.00 lat:4.00)|(lon:0.20 lat:0.21)|2018-01-14 08:02:00|         1|               7|\n",
      "|  3|2018-01-14 10:39:00|   false|               False|                0.02|(lon:0.00 lat:1.00)|(lon:0.20 lat:0.21)|2018-01-14 10:39:00|         1|               7|\n",
      "|  3|2018-01-15 07:03:00|   false|               False|                0.02|(lon:4.00 lat:4.00)|(lon:3.79 lat:3.81)|2018-01-15 07:03:00|         1|               8|\n",
      "|  3|2018-01-14 17:04:00|    true|velo_velo_146_per...|              0.0425|(lon:0.00 lat:1.00)|(lon:3.79 lat:3.81)|2018-01-14 17:04:00|         1|               8|\n",
      "|  3|2018-01-20 11:52:00|   false|               False|                0.02|(lon:0.00 lat:1.00)|(lon:0.20 lat:0.21)|2018-01-20 11:52:00|         1|               9|\n",
      "|  3|2018-01-20 09:15:00|    true|velo_velo_93_perf...|              0.0425|(lon:4.00 lat:4.00)|(lon:0.20 lat:0.21)|2018-01-20 09:15:00|         1|               9|\n",
      "|  3|2018-01-20 19:02:00|   false|               False|                0.02|(lon:4.00 lat:4.00)|(lon:3.79 lat:3.81)|2018-01-20 19:02:00|         1|              10|\n",
      "|  3|2018-01-20 17:04:00|    true|velo_velo_137_per...|              0.0425|(lon:0.00 lat:1.00)|(lon:3.79 lat:3.81)|2018-01-20 17:04:00|         1|              10|\n",
      "|  3|2018-01-21 08:39:00|   false|               False|                0.02|(lon:0.00 lat:1.00)|(lon:0.20 lat:0.21)|2018-01-21 08:39:00|         1|              11|\n",
      "|  3|2018-01-21 06:02:00|    true|velo_velo_196_per...|              0.0425|(lon:4.00 lat:4.00)|(lon:0.20 lat:0.21)|2018-01-21 06:02:00|         1|              11|\n",
      "|  3|2018-01-21 17:04:00|    true|velo_velo_196_per...|              0.0425|(lon:0.00 lat:1.00)|(lon:3.79 lat:3.81)|2018-01-21 17:04:00|         1|              12|\n",
      "|  3|2018-01-21 19:02:00|   false|               False|                0.02|(lon:4.00 lat:4.00)|(lon:3.79 lat:3.81)|2018-01-21 19:02:00|         1|              12|\n",
      "|  3|2018-01-27 09:15:00|    true|velo_velo_113_per...|              0.0425|(lon:4.00 lat:4.00)|(lon:0.20 lat:0.21)|2018-01-27 09:15:00|         1|              13|\n",
      "|  3|2018-01-27 11:52:00|   false|               False|                0.02|(lon:0.00 lat:1.00)|(lon:0.20 lat:0.21)|2018-01-27 11:52:00|         1|              13|\n",
      "|  3|2018-01-27 19:02:00|   false|               False|                0.02|(lon:4.00 lat:4.00)|(lon:3.79 lat:3.81)|2018-01-27 19:02:00|         1|              14|\n",
      "|  3|2018-01-27 17:04:00|    true|velo_velo_113_per...|              0.0425|(lon:0.00 lat:1.00)|(lon:3.79 lat:3.81)|2018-01-27 17:04:00|         1|              14|\n",
      "|  3|2018-01-28 06:50:00|    true|velo_velo_57_perf...| 0.04557891875069464|(lon:4.00 lat:4.00)|(lon:0.20 lat:0.21)|2018-01-28 06:50:00|         1|              15|\n",
      "|  3|2018-01-28 09:16:00|   false|               False|                0.02|(lon:0.00 lat:1.00)|(lon:0.20 lat:0.21)|2018-01-28 09:16:00|         1|              15|\n",
      "|  3|2018-01-28 17:04:00|    true|velo_velo_143_per...|              0.0425|(lon:0.00 lat:1.00)|(lon:3.79 lat:3.81)|2018-01-28 17:04:00|         1|              16|\n",
      "|  3|2018-01-28 19:34:00|   false|               False|                0.02|(lon:4.00 lat:4.00)|(lon:3.79 lat:3.81)|2018-01-28 19:34:00|         1|              16|\n",
      "|  4|2018-01-06 09:48:00|    true|velo_velo_113_per...|              0.0425|(lon:3.00 lat:1.00)|(lon:0.58 lat:0.20)|2018-01-06 09:48:00|         1|               1|\n",
      "|  4|2018-01-06 10:41:00|   false|               False|                0.02|(lon:1.00 lat:0.00)|(lon:0.58 lat:0.20)|2018-01-06 10:41:00|         1|               1|\n",
      "|  4|2018-01-06 13:39:00|    true|velo_velo_28_perf...|              0.0425|(lon:1.00 lat:0.00)|(lon:3.39 lat:0.93)|2018-01-06 13:39:00|         1|               2|\n",
      "|  4|2018-01-06 14:32:00|   false|               False|                0.02|(lon:3.00 lat:1.00)|(lon:3.39 lat:0.93)|2018-01-06 14:32:00|         1|               2|\n",
      "|  4|2018-01-07 10:35:00|    true|velo_velo_149_per...| 0.04889905956159027|(lon:3.00 lat:2.00)|(lon:0.58 lat:0.20)|2018-01-07 10:35:00|         1|               3|\n",
      "|  4|2018-01-07 11:33:00|   false|               False|                0.02|(lon:1.00 lat:0.00)|(lon:0.58 lat:0.20)|2018-01-07 11:33:00|         1|               3|\n",
      "|  4|2018-01-07 14:32:00|   false|               False|                0.02|(lon:3.00 lat:1.00)|(lon:3.39 lat:0.93)|2018-01-07 14:32:00|         1|               4|\n",
      "|  4|2018-01-07 13:39:00|    true|velo_velo_22_perf...|              0.0425|(lon:1.00 lat:0.00)|(lon:3.39 lat:0.93)|2018-01-07 13:39:00|         1|               4|\n",
      "|  4|2018-01-13 09:48:00|    true|velo_velo_110_per...|              0.0425|(lon:3.00 lat:1.00)|(lon:0.58 lat:0.20)|2018-01-13 09:48:00|         1|               5|\n",
      "|  4|2018-01-13 10:41:00|   false|               False|                0.02|(lon:1.00 lat:0.00)|(lon:0.58 lat:0.20)|2018-01-13 10:41:00|         1|               5|\n",
      "|  4|2018-01-13 14:32:00|   false|               False|                0.02|(lon:3.00 lat:1.00)|(lon:3.39 lat:0.93)|2018-01-13 14:32:00|         1|               6|\n",
      "|  4|2018-01-13 13:39:00|    true|velo_velo_171_per...|              0.0425|(lon:1.00 lat:0.00)|(lon:3.39 lat:0.93)|2018-01-13 13:39:00|         1|               6|\n",
      "|  4|2018-01-14 09:48:00|    true|velo_velo_78_perf...|              0.0425|(lon:3.00 lat:1.00)|(lon:0.58 lat:0.20)|2018-01-14 09:48:00|         1|               7|\n",
      "|  4|2018-01-14 11:05:00|   false|               False|                0.02|(lon:1.00 lat:1.00)|(lon:0.58 lat:0.20)|2018-01-14 11:05:00|         1|               7|\n",
      "|  4|2018-01-14 14:32:00|   false|               False|                0.02|(lon:3.00 lat:1.00)|(lon:3.39 lat:0.93)|2018-01-14 14:32:00|         1|               8|\n",
      "|  4|2018-01-14 13:39:00|    true|velo_velo_36_perf...|              0.0425|(lon:1.00 lat:0.00)|(lon:3.39 lat:0.93)|2018-01-14 13:39:00|         1|               8|\n",
      "|  4|2018-01-20 09:48:00|    true|velo_velo_160_per...|              0.0425|(lon:3.00 lat:1.00)|(lon:0.58 lat:0.20)|2018-01-20 09:48:00|         1|               9|\n",
      "|  4|2018-01-20 10:41:00|   false|               False|                0.02|(lon:1.00 lat:0.00)|(lon:0.58 lat:0.20)|2018-01-20 10:41:00|         1|               9|\n",
      "|  4|2018-01-20 16:06:00|   false|               False|                0.02|(lon:3.00 lat:1.00)|(lon:3.39 lat:0.93)|2018-01-20 16:06:00|         1|              10|\n",
      "|  4|2018-01-20 15:13:00|    true|velo_velo_116_per...|              0.0425|(lon:1.00 lat:2.00)|(lon:3.39 lat:0.93)|2018-01-20 15:13:00|         1|              10|\n",
      "|  4|2018-01-21 09:48:00|    true|velo_velo_52_perf...|              0.0425|(lon:3.00 lat:1.00)|(lon:0.58 lat:0.20)|2018-01-21 09:48:00|         1|              11|\n",
      "|  4|2018-01-21 10:41:00|   false|               False|                0.02|(lon:1.00 lat:0.00)|(lon:0.58 lat:0.20)|2018-01-21 10:41:00|         1|              11|\n",
      "|  4|2018-01-21 13:39:00|    true|velo_velo_111_per...|              0.0425|(lon:1.00 lat:0.00)|(lon:3.39 lat:0.93)|2018-01-21 13:39:00|         1|              12|\n",
      "|  4|2018-01-21 14:32:00|   false|               False|                0.02|(lon:3.00 lat:1.00)|(lon:3.39 lat:0.93)|2018-01-21 14:32:00|         1|              12|\n",
      "|  4|2018-01-27 12:36:00|   false|               False|                0.02|(lon:1.00 lat:0.00)|(lon:0.58 lat:0.20)|2018-01-27 12:36:00|         1|              13|\n",
      "|  4|2018-01-27 11:22:00|    true|velo_velo_115_per...| 0.04906202010714147|(lon:3.00 lat:3.00)|(lon:0.58 lat:0.20)|2018-01-27 11:22:00|         1|              13|\n",
      "|  4|2018-01-27 14:32:00|   false|               False|                0.02|(lon:3.00 lat:1.00)|(lon:3.39 lat:0.93)|2018-01-27 14:32:00|         1|              14|\n",
      "|  4|2018-01-27 13:39:00|    true|velo_velo_170_per...|              0.0425|(lon:1.00 lat:0.00)|(lon:3.39 lat:0.93)|2018-01-27 13:39:00|         1|              14|\n",
      "|  4|2018-01-28 09:48:00|    true|velo_velo_179_per...|              0.0425|(lon:3.00 lat:1.00)|(lon:0.58 lat:0.20)|2018-01-28 09:48:00|         1|              15|\n",
      "|  4|2018-01-28 10:41:00|   false|               False|                0.02|(lon:1.00 lat:0.00)|(lon:0.58 lat:0.20)|2018-01-28 10:41:00|         1|              15|\n",
      "|  4|2018-01-28 15:20:00|   false|               False|                0.02|(lon:3.00 lat:3.00)|(lon:3.39 lat:0.93)|2018-01-28 15:20:00|         1|              16|\n",
      "|  4|2018-01-28 13:39:00|    true|velo_velo_173_per...|              0.0425|(lon:1.00 lat:0.00)|(lon:3.39 lat:0.93)|2018-01-28 13:39:00|         1|              16|\n",
      "|  5|2018-01-06 12:51:00|   false|               False|0.030000000000000006|(lon:3.00 lat:3.00)|(lon:3.38 lat:2.93)|2018-01-06 12:51:00|         1|               1|\n",
      "|  5|2018-01-06 12:35:00|    true|velo_velo_130_per...|  0.0681250240393424|(lon:3.00 lat:4.00)|(lon:3.38 lat:2.93)|2018-01-06 12:35:00|         1|               1|\n",
      "|  5|2018-01-06 15:51:00|    true|velo_velo_120_per...|               0.068|(lon:3.00 lat:3.00)|(lon:2.88 lat:3.78)|2018-01-06 15:51:00|         1|               2|\n",
      "|  5|2018-01-06 16:07:00|   false|               False|0.030000000000000006|(lon:3.00 lat:4.00)|(lon:2.88 lat:3.78)|2018-01-06 16:07:00|         1|               2|\n",
      "|  5|2018-01-07 12:51:00|   false|               False|0.030000000000000006|(lon:3.00 lat:3.00)|(lon:3.38 lat:2.93)|2018-01-07 12:51:00|         1|               3|\n",
      "|  5|2018-01-07 12:35:00|    true|velo_velo_77_perf...|               0.068|(lon:3.00 lat:4.00)|(lon:3.38 lat:2.93)|2018-01-07 12:35:00|         1|               3|\n",
      "|  5|2018-01-07 15:51:00|    true|velo_velo_109_per...|               0.068|(lon:3.00 lat:3.00)|(lon:2.88 lat:3.78)|2018-01-07 15:51:00|         1|               4|\n",
      "|  5|2018-01-07 16:07:00|   false|               False|0.030000000000000006|(lon:3.00 lat:4.00)|(lon:2.88 lat:3.78)|2018-01-07 16:07:00|         1|               4|\n",
      "|  5|2018-01-13 14:52:00|    true|velo_velo_143_per...|               0.068|(lon:4.00 lat:0.00)|(lon:3.38 lat:2.93)|2018-01-13 14:52:00|         1|               5|\n",
      "|  5|2018-01-13 15:40:00|   false|               False|0.030000000000000006|(lon:3.00 lat:3.00)|(lon:3.38 lat:2.93)|2018-01-13 15:40:00|         1|               5|\n",
      "|  5|2018-01-13 16:04:00|    true|velo_velo_51_perf...|               0.068|(lon:3.00 lat:3.00)|(lon:2.88 lat:3.78)|2018-01-13 16:04:00|         1|               6|\n",
      "|  5|2018-01-13 16:20:00|   false|               False|0.030000000000000006|(lon:3.00 lat:4.00)|(lon:2.88 lat:3.78)|2018-01-13 16:20:00|         1|               6|\n",
      "|  5|2018-01-14 12:35:00|    true|velo_velo_194_per...|               0.068|(lon:3.00 lat:4.00)|(lon:3.38 lat:2.93)|2018-01-14 12:35:00|         1|               7|\n",
      "|  5|2018-01-14 12:51:00|   false|               False|0.030000000000000006|(lon:3.00 lat:3.00)|(lon:3.38 lat:2.93)|2018-01-14 12:51:00|         1|               7|\n",
      "|  5|2018-01-14 16:07:00|   false|               False|0.030000000000000006|(lon:3.00 lat:4.00)|(lon:2.88 lat:3.78)|2018-01-14 16:07:00|         1|               8|\n",
      "|  5|2018-01-14 15:51:00|    true|velo_velo_194_per...|               0.068|(lon:3.00 lat:3.00)|(lon:2.88 lat:3.78)|2018-01-14 15:51:00|         1|               8|\n",
      "|  5|2018-01-20 12:51:00|   false|               False|0.030000000000000006|(lon:3.00 lat:3.00)|(lon:3.38 lat:2.93)|2018-01-20 12:51:00|         1|               9|\n",
      "|  5|2018-01-20 12:35:00|    true|velo_velo_35_perf...|               0.068|(lon:3.00 lat:4.00)|(lon:3.38 lat:2.93)|2018-01-20 12:35:00|         1|               9|\n",
      "|  5|2018-01-20 17:59:00|   false|               False|0.030000000000000006|(lon:4.00 lat:0.00)|(lon:2.88 lat:3.78)|2018-01-20 17:59:00|         1|              10|\n",
      "|  5|2018-01-20 15:51:00|    true|velo_velo_95_perf...|                0.04|(lon:3.00 lat:3.00)|(lon:2.88 lat:3.78)|2018-01-20 15:51:00|         1|              10|\n",
      "|  5|2018-01-21 12:35:00|    true|velo_velo_132_per...|               0.068|(lon:3.00 lat:4.00)|(lon:3.38 lat:2.93)|2018-01-21 12:35:00|         1|              11|\n",
      "|  5|2018-01-21 12:51:00|   false|               False|0.030000000000000006|(lon:3.00 lat:3.00)|(lon:3.38 lat:2.93)|2018-01-21 12:51:00|         1|              11|\n",
      "|  5|2018-01-21 16:07:00|   false|               False|0.030000000000000006|(lon:3.00 lat:4.00)|(lon:2.88 lat:3.78)|2018-01-21 16:07:00|         1|              12|\n",
      "|  5|2018-01-21 15:51:00|    true|velo_velo_35_perf...|               0.068|(lon:3.00 lat:3.00)|(lon:2.88 lat:3.78)|2018-01-21 15:51:00|         1|              12|\n",
      "|  5|2018-01-27 12:35:00|    true|velo_velo_32_perf...|               0.068|(lon:3.00 lat:4.00)|(lon:3.38 lat:2.93)|2018-01-27 12:35:00|         1|              13|\n",
      "|  5|2018-01-27 12:51:00|   false|               False|0.030000000000000006|(lon:3.00 lat:3.00)|(lon:3.38 lat:2.93)|2018-01-27 12:51:00|         1|              13|\n",
      "|  5|2018-01-27 16:09:00|   false|               False|0.030000000000000006|(lon:3.00 lat:4.00)|(lon:2.88 lat:3.78)|2018-01-27 16:09:00|         1|              14|\n",
      "|  5|2018-01-27 15:51:00|    true|velo_velo_184_per...| 0.05840950642137871|(lon:3.00 lat:3.00)|(lon:2.88 lat:3.78)|2018-01-27 15:51:00|         1|              14|\n",
      "|  5|2018-01-28 12:51:00|   false|               False|0.030000000000000006|(lon:3.00 lat:3.00)|(lon:3.38 lat:2.93)|2018-01-28 12:51:00|         1|              15|\n",
      "|  5|2018-01-28 12:35:00|    true|velo_velo_141_per...|               0.068|(lon:3.00 lat:4.00)|(lon:3.38 lat:2.93)|2018-01-28 12:35:00|         1|              15|\n",
      "|  5|2018-01-28 15:51:00|    true|velo_velo_128_per...| 0.07670097870641097|(lon:3.00 lat:3.00)|(lon:2.88 lat:3.78)|2018-01-28 15:51:00|         1|              16|\n",
      "|  5|2018-01-28 16:05:00|   false|               False|0.030000000000000006|(lon:3.00 lat:4.00)|(lon:2.88 lat:3.78)|2018-01-28 16:05:00|         1|              16|\n",
      "|  6|2018-01-01 07:07:00|    true|velo_velo_144_per...|              0.0425|(lon:0.00 lat:1.00)|(lon:1.85 lat:0.04)|2018-01-01 07:07:00|         1|               1|\n",
      "|  6|2018-01-01 08:00:00|   false|               False|                0.02|(lon:2.00 lat:0.00)|(lon:1.85 lat:0.04)|2018-01-01 08:00:00|         1|               1|\n",
      "|  6|2018-01-01 16:34:00|    true|velo_velo_69_perf...|              0.0425|(lon:2.00 lat:0.00)|(lon:0.44 lat:1.45)|2018-01-01 16:34:00|         1|               2|\n",
      "|  6|2018-01-01 17:27:00|   false|               False|                0.02|(lon:0.00 lat:1.00)|(lon:0.44 lat:1.45)|2018-01-01 17:27:00|         1|               2|\n",
      "|  6|2018-01-02 07:07:00|    true|velo_velo_78_perf...|              0.0425|(lon:0.00 lat:1.00)|(lon:1.85 lat:0.04)|2018-01-02 07:07:00|         1|               3|\n",
      "|  6|2018-01-02 08:00:00|   false|               False|                0.02|(lon:2.00 lat:0.00)|(lon:1.85 lat:0.04)|2018-01-02 08:00:00|         1|               3|\n",
      "|  6|2018-01-02 16:34:00|    true|velo_velo_72_perf...| 0.04417612120504019|(lon:2.00 lat:0.00)|(lon:0.44 lat:1.45)|2018-01-02 16:34:00|         1|               4|\n",
      "|  6|2018-01-02 17:25:00|   false|               False|                0.02|(lon:0.00 lat:1.00)|(lon:0.44 lat:1.45)|2018-01-02 17:25:00|         1|               4|\n",
      "|  6|2018-01-04 07:07:00|    true|velo_velo_90_perf...|0.045538413554896795|(lon:0.00 lat:1.00)|(lon:1.85 lat:0.04)|2018-01-04 07:07:00|         1|               5|\n",
      "|  6|2018-01-04 07:56:00|   false|               False|                0.02|(lon:2.00 lat:0.00)|(lon:1.85 lat:0.04)|2018-01-04 07:56:00|         1|               5|\n",
      "|  6|2018-01-04 16:34:00|    true|velo_velo_73_perf...|              0.0425|(lon:2.00 lat:0.00)|(lon:0.44 lat:1.45)|2018-01-04 16:34:00|         1|               6|\n",
      "|  6|2018-01-04 17:27:00|   false|               False|                0.02|(lon:0.00 lat:1.00)|(lon:0.44 lat:1.45)|2018-01-04 17:27:00|         1|               6|\n",
      "|  6|2018-01-05 07:07:00|    true|velo_velo_165_per...|              0.0425|(lon:0.00 lat:1.00)|(lon:1.85 lat:0.04)|2018-01-05 07:07:00|         1|               7|\n",
      "|  6|2018-01-05 08:00:00|   false|               False|                0.02|(lon:2.00 lat:0.00)|(lon:1.85 lat:0.04)|2018-01-05 08:00:00|         1|               7|\n",
      "|  6|2018-01-05 17:27:00|   false|               False|                0.02|(lon:0.00 lat:1.00)|(lon:0.44 lat:1.45)|2018-01-05 17:27:00|         1|               8|\n",
      "|  6|2018-01-05 16:34:00|    true|velo_velo_122_per...|              0.0425|(lon:2.00 lat:0.00)|(lon:0.44 lat:1.45)|2018-01-05 16:34:00|         1|               8|\n",
      "|  6|2018-01-08 07:07:00|    true|velo_velo_134_per...|              0.0425|(lon:0.00 lat:1.00)|(lon:1.85 lat:0.04)|2018-01-08 07:07:00|         1|               9|\n",
      "|  6|2018-01-08 08:00:00|   false|               False|                0.02|(lon:2.00 lat:0.00)|(lon:1.85 lat:0.04)|2018-01-08 08:00:00|         1|               9|\n",
      "+---+-------------------+--------+--------------------+--------------------+-------------------+-------------------+-------------------+----------+----------------+\n",
      "only showing top 200 rows\n",
      "\n"
     ]
    }
   ],
   "source": [
    "cyclistes.filter((cyclistes.numero_de_trajet >= 1) & (cyclistes.Changement == 1)).orderBy(\"id\",\"numero_de_trajet\").show(200)"
   ]
  },
  {
   "cell_type": "code",
   "execution_count": null,
   "metadata": {},
   "outputs": [],
   "source": []
  },
  {
   "cell_type": "markdown",
   "metadata": {},
   "source": [
    "4) Il suffit maintenant de repêter la première étape, c'est a dire récupérer la début et la fin de chaque trajet pour chaque id, puis calculer la durée des trajets. \n",
    "\n",
    "(Pensez à récuperer les \"vrai trajet au préalable (avec un état sur_vélo = 1)."
   ]
  },
  {
   "cell_type": "code",
   "execution_count": 16,
   "metadata": {},
   "outputs": [],
   "source": [
    "trajet = cyclistes.filter(cyclistes.sur_velo == 1)\n",
    "#trajet = trajet.withColumn(\"duree\", (F.max(cyclistes.Date) - F.min(cyclistes.Date)) )\n",
    "duree = trajet.groupBy(\"id\",\"numero_de_trajet\").agg(F.max(cyclistes.Date),F.min(cyclistes.Date))\n",
    "duree = duree.withColumn(\"duree\", (F.unix_timestamp(duree[\"max(Date)\"]) -  F.unix_timestamp(duree[\"min(Date)\"]))/60).orderBy(\"id\",\"numero_de_trajet\")"
   ]
  },
  {
   "cell_type": "code",
   "execution_count": 17,
   "metadata": {},
   "outputs": [
    {
     "name": "stdout",
     "output_type": "stream",
     "text": [
      "+---+----------------+-------------------+-------------------+-----+\n",
      "| id|numero_de_trajet|          max(Date)|          min(Date)|duree|\n",
      "+---+----------------+-------------------+-------------------+-----+\n",
      "|  2|               1|2018-01-01 12:36:00|2018-01-01 12:33:00|  3.0|\n",
      "|  2|               2|2018-01-01 20:00:00|2018-01-01 19:59:00|  1.0|\n",
      "|  2|               3|2018-01-02 12:34:00|2018-01-02 12:33:00|  1.0|\n",
      "|  2|               4|2018-01-02 20:00:00|2018-01-02 19:59:00|  1.0|\n",
      "|  2|               5|2018-01-03 12:34:00|2018-01-03 12:33:00|  1.0|\n",
      "|  2|               6|2018-01-03 20:00:00|2018-01-03 19:59:00|  1.0|\n",
      "|  2|               7|2018-01-04 12:34:00|2018-01-04 12:33:00|  1.0|\n",
      "|  2|               8|2018-01-04 20:00:00|2018-01-04 19:59:00|  1.0|\n",
      "|  2|               9|2018-01-05 12:34:00|2018-01-05 12:33:00|  1.0|\n",
      "|  2|              10|2018-01-05 20:00:00|2018-01-05 19:59:00|  1.0|\n",
      "|  2|              11|2018-01-08 12:34:00|2018-01-08 12:33:00|  1.0|\n",
      "|  2|              12|2018-01-08 20:00:00|2018-01-08 19:59:00|  1.0|\n",
      "|  2|              13|2018-01-09 12:34:00|2018-01-09 12:33:00|  1.0|\n",
      "|  2|              14|2018-01-09 20:00:00|2018-01-09 19:59:00|  1.0|\n",
      "|  2|              15|2018-01-10 12:34:00|2018-01-10 12:33:00|  1.0|\n",
      "|  2|              16|2018-01-10 20:00:00|2018-01-10 19:59:00|  1.0|\n",
      "|  2|              17|2018-01-11 12:36:00|2018-01-11 12:33:00|  3.0|\n",
      "|  2|              18|2018-01-11 20:02:00|2018-01-11 20:01:00|  1.0|\n",
      "|  2|              19|2018-01-12 12:34:00|2018-01-12 12:33:00|  1.0|\n",
      "|  2|              20|2018-01-12 20:00:00|2018-01-12 19:59:00|  1.0|\n",
      "+---+----------------+-------------------+-------------------+-----+\n",
      "only showing top 20 rows\n",
      "\n"
     ]
    }
   ],
   "source": [
    "duree.show()"
   ]
  },
  {
   "cell_type": "markdown",
   "metadata": {},
   "source": [
    "## 5) Data visualisation\n",
    "\n",
    "Convertissez votre dataframe pyspark en dataframe pandas."
   ]
  },
  {
   "cell_type": "code",
   "execution_count": 18,
   "metadata": {
    "scrolled": true
   },
   "outputs": [],
   "source": [
    "df = duree.toPandas()"
   ]
  },
  {
   "cell_type": "markdown",
   "metadata": {},
   "source": [
    "1) A l'aide des librairies matplotlib et/ou seaborn, réalisez un graphique en barre montrant le temps total passé à vélo par chaque cycliste."
   ]
  },
  {
   "cell_type": "code",
   "execution_count": 19,
   "metadata": {},
   "outputs": [],
   "source": [
    "import seaborn as sns\n",
    "import pandas as pd\n",
    "import matplotlib.pyplot as plt\n",
    "%matplotlib inline\n",
    "pd.set_option('display.max_rows', 500)"
   ]
  },
  {
   "cell_type": "code",
   "execution_count": 20,
   "metadata": {},
   "outputs": [
    {
     "data": {
      "text/html": [
       "<div>\n",
       "<style scoped>\n",
       "    .dataframe tbody tr th:only-of-type {\n",
       "        vertical-align: middle;\n",
       "    }\n",
       "\n",
       "    .dataframe tbody tr th {\n",
       "        vertical-align: top;\n",
       "    }\n",
       "\n",
       "    .dataframe thead th {\n",
       "        text-align: right;\n",
       "    }\n",
       "</style>\n",
       "<table border=\"1\" class=\"dataframe\">\n",
       "  <thead>\n",
       "    <tr style=\"text-align: right;\">\n",
       "      <th></th>\n",
       "      <th>id</th>\n",
       "      <th>numero_de_trajet</th>\n",
       "      <th>max(Date)</th>\n",
       "      <th>min(Date)</th>\n",
       "      <th>duree</th>\n",
       "    </tr>\n",
       "  </thead>\n",
       "  <tbody>\n",
       "    <tr>\n",
       "      <th>0</th>\n",
       "      <td>2</td>\n",
       "      <td>1</td>\n",
       "      <td>2018-01-01 12:36:00</td>\n",
       "      <td>2018-01-01 12:33:00</td>\n",
       "      <td>3.0</td>\n",
       "    </tr>\n",
       "    <tr>\n",
       "      <th>1</th>\n",
       "      <td>2</td>\n",
       "      <td>2</td>\n",
       "      <td>2018-01-01 20:00:00</td>\n",
       "      <td>2018-01-01 19:59:00</td>\n",
       "      <td>1.0</td>\n",
       "    </tr>\n",
       "    <tr>\n",
       "      <th>2</th>\n",
       "      <td>2</td>\n",
       "      <td>3</td>\n",
       "      <td>2018-01-02 12:34:00</td>\n",
       "      <td>2018-01-02 12:33:00</td>\n",
       "      <td>1.0</td>\n",
       "    </tr>\n",
       "    <tr>\n",
       "      <th>3</th>\n",
       "      <td>2</td>\n",
       "      <td>4</td>\n",
       "      <td>2018-01-02 20:00:00</td>\n",
       "      <td>2018-01-02 19:59:00</td>\n",
       "      <td>1.0</td>\n",
       "    </tr>\n",
       "    <tr>\n",
       "      <th>4</th>\n",
       "      <td>2</td>\n",
       "      <td>5</td>\n",
       "      <td>2018-01-03 12:34:00</td>\n",
       "      <td>2018-01-03 12:33:00</td>\n",
       "      <td>1.0</td>\n",
       "    </tr>\n",
       "    <tr>\n",
       "      <th>5</th>\n",
       "      <td>2</td>\n",
       "      <td>6</td>\n",
       "      <td>2018-01-03 20:00:00</td>\n",
       "      <td>2018-01-03 19:59:00</td>\n",
       "      <td>1.0</td>\n",
       "    </tr>\n",
       "    <tr>\n",
       "      <th>6</th>\n",
       "      <td>2</td>\n",
       "      <td>7</td>\n",
       "      <td>2018-01-04 12:34:00</td>\n",
       "      <td>2018-01-04 12:33:00</td>\n",
       "      <td>1.0</td>\n",
       "    </tr>\n",
       "    <tr>\n",
       "      <th>7</th>\n",
       "      <td>2</td>\n",
       "      <td>8</td>\n",
       "      <td>2018-01-04 20:00:00</td>\n",
       "      <td>2018-01-04 19:59:00</td>\n",
       "      <td>1.0</td>\n",
       "    </tr>\n",
       "    <tr>\n",
       "      <th>8</th>\n",
       "      <td>2</td>\n",
       "      <td>9</td>\n",
       "      <td>2018-01-05 12:34:00</td>\n",
       "      <td>2018-01-05 12:33:00</td>\n",
       "      <td>1.0</td>\n",
       "    </tr>\n",
       "    <tr>\n",
       "      <th>9</th>\n",
       "      <td>2</td>\n",
       "      <td>10</td>\n",
       "      <td>2018-01-05 20:00:00</td>\n",
       "      <td>2018-01-05 19:59:00</td>\n",
       "      <td>1.0</td>\n",
       "    </tr>\n",
       "    <tr>\n",
       "      <th>10</th>\n",
       "      <td>2</td>\n",
       "      <td>11</td>\n",
       "      <td>2018-01-08 12:34:00</td>\n",
       "      <td>2018-01-08 12:33:00</td>\n",
       "      <td>1.0</td>\n",
       "    </tr>\n",
       "    <tr>\n",
       "      <th>11</th>\n",
       "      <td>2</td>\n",
       "      <td>12</td>\n",
       "      <td>2018-01-08 20:00:00</td>\n",
       "      <td>2018-01-08 19:59:00</td>\n",
       "      <td>1.0</td>\n",
       "    </tr>\n",
       "    <tr>\n",
       "      <th>12</th>\n",
       "      <td>2</td>\n",
       "      <td>13</td>\n",
       "      <td>2018-01-09 12:34:00</td>\n",
       "      <td>2018-01-09 12:33:00</td>\n",
       "      <td>1.0</td>\n",
       "    </tr>\n",
       "    <tr>\n",
       "      <th>13</th>\n",
       "      <td>2</td>\n",
       "      <td>14</td>\n",
       "      <td>2018-01-09 20:00:00</td>\n",
       "      <td>2018-01-09 19:59:00</td>\n",
       "      <td>1.0</td>\n",
       "    </tr>\n",
       "    <tr>\n",
       "      <th>14</th>\n",
       "      <td>2</td>\n",
       "      <td>15</td>\n",
       "      <td>2018-01-10 12:34:00</td>\n",
       "      <td>2018-01-10 12:33:00</td>\n",
       "      <td>1.0</td>\n",
       "    </tr>\n",
       "    <tr>\n",
       "      <th>15</th>\n",
       "      <td>2</td>\n",
       "      <td>16</td>\n",
       "      <td>2018-01-10 20:00:00</td>\n",
       "      <td>2018-01-10 19:59:00</td>\n",
       "      <td>1.0</td>\n",
       "    </tr>\n",
       "    <tr>\n",
       "      <th>16</th>\n",
       "      <td>2</td>\n",
       "      <td>17</td>\n",
       "      <td>2018-01-11 12:36:00</td>\n",
       "      <td>2018-01-11 12:33:00</td>\n",
       "      <td>3.0</td>\n",
       "    </tr>\n",
       "    <tr>\n",
       "      <th>17</th>\n",
       "      <td>2</td>\n",
       "      <td>18</td>\n",
       "      <td>2018-01-11 20:02:00</td>\n",
       "      <td>2018-01-11 20:01:00</td>\n",
       "      <td>1.0</td>\n",
       "    </tr>\n",
       "    <tr>\n",
       "      <th>18</th>\n",
       "      <td>2</td>\n",
       "      <td>19</td>\n",
       "      <td>2018-01-12 12:34:00</td>\n",
       "      <td>2018-01-12 12:33:00</td>\n",
       "      <td>1.0</td>\n",
       "    </tr>\n",
       "    <tr>\n",
       "      <th>19</th>\n",
       "      <td>2</td>\n",
       "      <td>20</td>\n",
       "      <td>2018-01-12 20:00:00</td>\n",
       "      <td>2018-01-12 19:59:00</td>\n",
       "      <td>1.0</td>\n",
       "    </tr>\n",
       "  </tbody>\n",
       "</table>\n",
       "</div>"
      ],
      "text/plain": [
       "    id  numero_de_trajet           max(Date)           min(Date)  duree\n",
       "0    2                 1 2018-01-01 12:36:00 2018-01-01 12:33:00    3.0\n",
       "1    2                 2 2018-01-01 20:00:00 2018-01-01 19:59:00    1.0\n",
       "2    2                 3 2018-01-02 12:34:00 2018-01-02 12:33:00    1.0\n",
       "3    2                 4 2018-01-02 20:00:00 2018-01-02 19:59:00    1.0\n",
       "4    2                 5 2018-01-03 12:34:00 2018-01-03 12:33:00    1.0\n",
       "5    2                 6 2018-01-03 20:00:00 2018-01-03 19:59:00    1.0\n",
       "6    2                 7 2018-01-04 12:34:00 2018-01-04 12:33:00    1.0\n",
       "7    2                 8 2018-01-04 20:00:00 2018-01-04 19:59:00    1.0\n",
       "8    2                 9 2018-01-05 12:34:00 2018-01-05 12:33:00    1.0\n",
       "9    2                10 2018-01-05 20:00:00 2018-01-05 19:59:00    1.0\n",
       "10   2                11 2018-01-08 12:34:00 2018-01-08 12:33:00    1.0\n",
       "11   2                12 2018-01-08 20:00:00 2018-01-08 19:59:00    1.0\n",
       "12   2                13 2018-01-09 12:34:00 2018-01-09 12:33:00    1.0\n",
       "13   2                14 2018-01-09 20:00:00 2018-01-09 19:59:00    1.0\n",
       "14   2                15 2018-01-10 12:34:00 2018-01-10 12:33:00    1.0\n",
       "15   2                16 2018-01-10 20:00:00 2018-01-10 19:59:00    1.0\n",
       "16   2                17 2018-01-11 12:36:00 2018-01-11 12:33:00    3.0\n",
       "17   2                18 2018-01-11 20:02:00 2018-01-11 20:01:00    1.0\n",
       "18   2                19 2018-01-12 12:34:00 2018-01-12 12:33:00    1.0\n",
       "19   2                20 2018-01-12 20:00:00 2018-01-12 19:59:00    1.0"
      ]
     },
     "execution_count": 20,
     "metadata": {},
     "output_type": "execute_result"
    }
   ],
   "source": [
    "df.head(20)"
   ]
  },
  {
   "cell_type": "code",
   "execution_count": 21,
   "metadata": {},
   "outputs": [
    {
     "data": {
      "image/png": "[encoded data removed]",
      "text/plain": [
       "<Figure size 2160x720 with 1 Axes>"
      ]
     },
     "metadata": {
      "needs_background": "light"
     },
     "output_type": "display_data"
    }
   ],
   "source": [
    "fig_dims = (30, 10)\n",
    "fig, ax = plt.subplots(figsize=fig_dims)\n",
    "\n",
    "sns.barplot(x = 'id', y = 'duree',ax=ax, data = df.groupby([\"id\"], as_index=False).sum([\"duree\"]))\n",
    "\n",
    "ax.set(xlabel='Cycliste', ylabel='Durée (min)')\n",
    "\n",
    "plt.show()\n",
    "\n"
   ]
  },
  {
   "cell_type": "markdown",
   "metadata": {},
   "source": [
    "2) Réalisez un graphique en barre qui affiche le temps de chaque trajet d'un cycliste. Faites en sorte qu'on puisse choisir un id et afficher les trajets de cet id."
   ]
  },
  {
   "cell_type": "code",
   "execution_count": 22,
   "metadata": {},
   "outputs": [],
   "source": [
    "def onCylisteDureeTrajet(_id: int):\n",
    "    fig_dims = (30, 10)\n",
    "    fig, ax = plt.subplots(figsize=fig_dims)\n",
    "\n",
    "    sns.barplot(x = 'numero_de_trajet', y = 'duree', ax=ax, data = df.loc[df['id'] == _id])\n",
    "\n",
    "    ax.set(xlabel='Numéro de trajet', ylabel='Durée (min)')\n",
    "\n",
    "    plt.show()"
   ]
  },
  {
   "cell_type": "code",
   "execution_count": 23,
   "metadata": {},
   "outputs": [
    {
     "data": {
      "image/png": "[encoded data removed]",
      "text/plain": [
       "<Figure size 2160x720 with 1 Axes>"
      ]
     },
     "metadata": {
      "needs_background": "light"
     },
     "output_type": "display_data"
    }
   ],
   "source": [
    "onCylisteDureeTrajet(8)"
   ]
  },
  {
   "cell_type": "markdown",
   "metadata": {
    "tags": []
   },
   "source": [
    "## 6) Sauvegarde\n",
    "\n",
    "Sauvegardez votre dataset trajets au format csv dans le dossier data."
   ]
  },
  {
   "cell_type": "code",
   "execution_count": 27,
   "metadata": {
    "scrolled": true
   },
   "outputs": [],
   "source": [
    "df.to_csv(r\"data/TD_spark_result.csv\",index=False)"
   ]
  }
 ],
 "metadata": {
  "kernelspec": {
   "display_name": "Python 3 (ipykernel)",
   "language": "python",
   "name": "python3"
  },
  "language_info": {
   "codemirror_mode": {
    "name": "ipython",
    "version": 3
   },
   "file_extension": ".py",
   "mimetype": "text/x-python",
   "name": "python",
   "nbconvert_exporter": "python",
   "pygments_lexer": "ipython3",
   "version": "3.9.7"
  }
 },
 "nbformat": 4,
 "nbformat_minor": 4
}
